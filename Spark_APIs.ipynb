{
  "nbformat": 4,
  "nbformat_minor": 0,
  "metadata": {
    "colab": {
      "name": "Spark APIs.ipynb",
      "provenance": [],
      "collapsed_sections": [],
      "authorship_tag": "ABX9TyNjk0duwXlLi/XvgUbvAxZo"
    },
    "kernelspec": {
      "name": "python3",
      "display_name": "Python 3"
    },
    "language_info": {
      "name": "python"
    }
  },
  "cells": [
    {
      "cell_type": "code",
      "metadata": {
        "id": "2SztZLTmrX4d"
      },
      "source": [
        "# Install Java, Spark, and Findspark\n",
        "%%bash\n",
        "apt-get install openjdk-8-jdk-headless -qq > /dev/null\n",
        "[ ! -e \"$(basename spark-3.1.2-bin-hadoop2.7.tgz)\" ] && wget  http://apache.osuosl.org/spark/spark-3.1.2/spark-3.1.2-bin-hadoop2.7.tgz  \n",
        "tar xf spark-3.1.2-bin-hadoop2.7.tgz\n",
        "pip install -q findspark"
      ],
      "execution_count": null,
      "outputs": []
    },
    {
      "cell_type": "code",
      "metadata": {
        "id": "MeZ3LGSmvTm3"
      },
      "source": [
        "#Set Environment Variables\n",
        "#Set the locations where Spark and Java are installed.\n",
        "import os\n",
        "os.environ[\"JAVA_HOME\"] = \"/usr/lib/jvm/java-8-openjdk-amd64\"\n",
        "os.environ[\"SPARK_HOME\"] = \"/content/spark-3.1.2-bin-hadoop2.7\""
      ],
      "execution_count": null,
      "outputs": []
    },
    {
      "cell_type": "code",
      "metadata": {
        "id": "95PpxiWHce_S"
      },
      "source": [
        "# Start a SparkSession\n",
        "import findspark\n",
        "findspark.init()\n",
        "from pyspark.sql import SparkSession\n",
        "\n",
        "# get a spark session. \n",
        "spark = SparkSession.builder.master(\"local[*]\").getOrCreate()"
      ],
      "execution_count": null,
      "outputs": []
    },
    {
      "cell_type": "code",
      "metadata": {
        "colab": {
          "base_uri": "https://localhost:8080/"
        },
        "id": "44WRKf8pd3HU",
        "outputId": "2f39a663-14eb-4066-a98b-b75759d1945d"
      },
      "source": [
        "# Create Dataframe in Spark!\n",
        "! [ ! -e \"$(basename AH_Provisional_Diabetes_Death_Counts_for_2020.csv)\" ] && wget  'https://storage.googleapis.com/files.mobibootcamp.com/2021-datasets/AH_Provisional_Diabetes_Death_Counts_for_2020.csv'\n",
        "df = spark.read.csv('AH_Provisional_Diabetes_Death_Counts_for_2020.csv',\n",
        "                      header= True, \n",
        "                      inferSchema = True)\n",
        "#df.show()\n",
        "\n",
        "print(df.columns)"
      ],
      "execution_count": null,
      "outputs": [
        {
          "output_type": "stream",
          "name": "stdout",
          "text": [
            "--2021-11-18 00:47:15--  https://storage.googleapis.com/files.mobibootcamp.com/2021-datasets/AH_Provisional_Diabetes_Death_Counts_for_2020.csv\n",
            "Resolving storage.googleapis.com (storage.googleapis.com)... 142.250.188.208, 142.251.33.208, 172.217.9.208, ...\n",
            "Connecting to storage.googleapis.com (storage.googleapis.com)|142.250.188.208|:443... connected.\n",
            "HTTP request sent, awaiting response... 200 OK\n",
            "Length: 17509 (17K) [text/csv]\n",
            "Saving to: ‘AH_Provisional_Diabetes_Death_Counts_for_2020.csv’\n",
            "\n",
            "\r          AH_Provis   0%[                    ]       0  --.-KB/s               \rAH_Provisional_Diab 100%[===================>]  17.10K  --.-KB/s    in 0.002s  \n",
            "\n",
            "2021-11-18 00:47:15 (9.95 MB/s) - ‘AH_Provisional_Diabetes_Death_Counts_for_2020.csv’ saved [17509/17509]\n",
            "\n",
            "['Data as of', 'Date_Of_Death_Year', 'Date_Of_Death_Month', 'AgeGroup', 'Sex', 'COVID19', 'Diabetes.uc', 'Diabetes.mc', 'C19PlusDiabetes', 'C19PlusHypertensiveDiseases', 'C19PlusMajorCardiovascularDiseases', 'C19PlusHypertensiveDiseasesAndMCVD', 'C19PlusChronicLowerRespiratoryDisease', 'C19PlusKidneyDisease', 'C19PlusChronicLiverDiseaseAndCirrhosis', 'C19PlusObesity']\n"
          ]
        }
      ]
    },
    {
      "cell_type": "code",
      "metadata": {
        "colab": {
          "base_uri": "https://localhost:8080/"
        },
        "id": "ggzQdufZkBV3",
        "outputId": "10c35155-62bf-43e3-d924-0ac585c8cc7c"
      },
      "source": [
        "# Determine how many rows are present in the dataset\n",
        "df.count()"
      ],
      "execution_count": null,
      "outputs": [
        {
          "output_type": "execute_result",
          "data": {
            "text/plain": [
              "226"
            ]
          },
          "metadata": {},
          "execution_count": 5
        }
      ]
    },
    {
      "cell_type": "code",
      "metadata": {
        "colab": {
          "base_uri": "https://localhost:8080/"
        },
        "id": "senTfVlpkMYP",
        "outputId": "a90e47a9-c4a2-4482-c2f7-3578f4afb5aa"
      },
      "source": [
        "# Determine how many columns are present in the dataset\n",
        "print(len(df.columns))"
      ],
      "execution_count": null,
      "outputs": [
        {
          "output_type": "stream",
          "name": "stdout",
          "text": [
            "16\n"
          ]
        }
      ]
    },
    {
      "cell_type": "code",
      "metadata": {
        "colab": {
          "base_uri": "https://localhost:8080/"
        },
        "id": "YbanA7f1kYFe",
        "outputId": "b1d24afb-3e1d-41af-85bf-316532f28e44"
      },
      "source": [
        "df.take(5)"
      ],
      "execution_count": null,
      "outputs": [
        {
          "output_type": "execute_result",
          "data": {
            "text/plain": [
              "[Row(Data as of='10/20/2020', Date_Of_Death_Year=2020, Date_Of_Death_Month=1, AgeGroup='<18 years', Sex='Female (F)', COVID19=0, Diabetes.uc=3, Diabetes.mc=5, C19PlusDiabetes=0, C19PlusHypertensiveDiseases=0, C19PlusMajorCardiovascularDiseases=0, C19PlusHypertensiveDiseasesAndMCVD=0, C19PlusChronicLowerRespiratoryDisease=0, C19PlusKidneyDisease=0, C19PlusChronicLiverDiseaseAndCirrhosis=0, C19PlusObesity=0),\n",
              " Row(Data as of='10/20/2020', Date_Of_Death_Year=2020, Date_Of_Death_Month=1, AgeGroup='<18 years', Sex='Male (M)', COVID19=0, Diabetes.uc=3, Diabetes.mc=3, C19PlusDiabetes=0, C19PlusHypertensiveDiseases=0, C19PlusMajorCardiovascularDiseases=0, C19PlusHypertensiveDiseasesAndMCVD=0, C19PlusChronicLowerRespiratoryDisease=0, C19PlusKidneyDisease=0, C19PlusChronicLiverDiseaseAndCirrhosis=0, C19PlusObesity=0),\n",
              " Row(Data as of='10/20/2020', Date_Of_Death_Year=2020, Date_Of_Death_Month=1, AgeGroup='18-29 years', Sex='Female (F)', COVID19=0, Diabetes.uc=20, Diabetes.mc=36, C19PlusDiabetes=0, C19PlusHypertensiveDiseases=0, C19PlusMajorCardiovascularDiseases=0, C19PlusHypertensiveDiseasesAndMCVD=0, C19PlusChronicLowerRespiratoryDisease=0, C19PlusKidneyDisease=0, C19PlusChronicLiverDiseaseAndCirrhosis=0, C19PlusObesity=0),\n",
              " Row(Data as of='10/20/2020', Date_Of_Death_Year=2020, Date_Of_Death_Month=1, AgeGroup='18-29 years', Sex='Male (M)', COVID19=0, Diabetes.uc=44, Diabetes.mc=65, C19PlusDiabetes=0, C19PlusHypertensiveDiseases=0, C19PlusMajorCardiovascularDiseases=0, C19PlusHypertensiveDiseasesAndMCVD=0, C19PlusChronicLowerRespiratoryDisease=0, C19PlusKidneyDisease=0, C19PlusChronicLiverDiseaseAndCirrhosis=0, C19PlusObesity=0),\n",
              " Row(Data as of='10/20/2020', Date_Of_Death_Year=2020, Date_Of_Death_Month=1, AgeGroup='30-39 years', Sex='Female (F)', COVID19=0, Diabetes.uc=53, Diabetes.mc=104, C19PlusDiabetes=0, C19PlusHypertensiveDiseases=0, C19PlusMajorCardiovascularDiseases=0, C19PlusHypertensiveDiseasesAndMCVD=0, C19PlusChronicLowerRespiratoryDisease=0, C19PlusKidneyDisease=0, C19PlusChronicLiverDiseaseAndCirrhosis=0, C19PlusObesity=0)]"
            ]
          },
          "metadata": {},
          "execution_count": 7
        }
      ]
    },
    {
      "cell_type": "code",
      "metadata": {
        "colab": {
          "base_uri": "https://localhost:8080/"
        },
        "id": "mQTR9H6ezURf",
        "outputId": "c1c902f1-83de-4d67-db7c-1f7071f77634"
      },
      "source": [
        "# Cleaning step - Change column names                           \n",
        "df = df.withColumnRenamed('Data as of','date')\n",
        "df = df.withColumnRenamed('Date_Of_Death_Year','death_year')\n",
        "df = df.withColumnRenamed('Date_Of_Death_Month','death_month')\n",
        "df = df.withColumnRenamed('AgeGroup','agegroup')\n",
        "df = df.withColumnRenamed('Sex','sex')\n",
        "df = df.withColumnRenamed('COVID19','covid19')\n",
        "df = df.withColumnRenamed('Diabetes.uc','diabetes_uc')\n",
        "df = df.withColumnRenamed('Diabetes.mc','diabetes_mc')\n",
        "df = df.withColumnRenamed('C19PlusDiabetes','c19_diabete')\n",
        "df = df.withColumnRenamed('C19PlusHypertensiveDiseases','c19_hypertensive')\n",
        "df = df.withColumnRenamed('C19PlusMajorCardiovascularDiseases','c19_cardio_vascular')\n",
        "df = df.withColumnRenamed('C19PlusHypertensiveDiseasesAndMCVD','c19_hypertensive_mcvd')\n",
        "df = df.withColumnRenamed('C19PlusChronicLowerRespiratoryDisease','c19_lower_respiratory')\n",
        "df = df.withColumnRenamed('C19PlusKidneyDisease','c19_kidney')\n",
        "df = df.withColumnRenamed('C19PlusChronicLiverDiseaseAndCirrhosis','c19_liver_cirrhosis')\n",
        "df = df.withColumnRenamed('C19PlusObesity','c19_obesity')\n",
        "print(df.columns)"
      ],
      "execution_count": null,
      "outputs": [
        {
          "output_type": "stream",
          "name": "stdout",
          "text": [
            "['date', 'death_year', 'death_month', 'agegroup', 'sex', 'covid19', 'diabetes_uc', 'diabetes_mc', 'c19_diabete', 'c19_hypertensive', 'c19_cardio_vascular', 'c19_hypertensive_mcvd', 'c19_lower_respiratory', 'c19_kidney', 'c19_liver_cirrhosis', 'c19_obesity']\n"
          ]
        }
      ]
    },
    {
      "cell_type": "code",
      "metadata": {
        "colab": {
          "base_uri": "https://localhost:8080/"
        },
        "id": "N40n5xCfFz7A",
        "outputId": "beb78d05-6132-445b-d822-6ff194a0118b"
      },
      "source": [
        "# check datatypes of all columns\n",
        "df.dtypes"
      ],
      "execution_count": null,
      "outputs": [
        {
          "output_type": "execute_result",
          "data": {
            "text/plain": [
              "[('date', 'string'),\n",
              " ('death_year', 'int'),\n",
              " ('death_month', 'int'),\n",
              " ('agegroup', 'string'),\n",
              " ('sex', 'string'),\n",
              " ('covid19', 'int'),\n",
              " ('diabetes_uc', 'int'),\n",
              " ('diabetes_mc', 'int'),\n",
              " ('c19_diabete', 'int'),\n",
              " ('c19_hypertensive', 'int'),\n",
              " ('c19_cardio_vascular', 'int'),\n",
              " ('c19_hypertensive_mcvd', 'int'),\n",
              " ('c19_lower_respiratory', 'int'),\n",
              " ('c19_kidney', 'int'),\n",
              " ('c19_liver_cirrhosis', 'int'),\n",
              " ('c19_obesity', 'int')]"
            ]
          },
          "metadata": {},
          "execution_count": 9
        }
      ]
    },
    {
      "cell_type": "code",
      "metadata": {
        "colab": {
          "base_uri": "https://localhost:8080/"
        },
        "id": "Q8y4o1mpJA2I",
        "outputId": "a9d5c60d-d23e-449e-8aeb-3d9301b4130d"
      },
      "source": [
        "df.show()"
      ],
      "execution_count": null,
      "outputs": [
        {
          "output_type": "stream",
          "name": "stdout",
          "text": [
            "+----------+----------+-----------+-----------+----------+-------+-----------+-----------+-----------+----------------+-------------------+---------------------+---------------------+----------+-------------------+-----------+\n",
            "|      date|death_year|death_month|   agegroup|       sex|covid19|diabetes_uc|diabetes_mc|c19_diabete|c19_hypertensive|c19_cardio_vascular|c19_hypertensive_mcvd|c19_lower_respiratory|c19_kidney|c19_liver_cirrhosis|c19_obesity|\n",
            "+----------+----------+-----------+-----------+----------+-------+-----------+-----------+-----------+----------------+-------------------+---------------------+---------------------+----------+-------------------+-----------+\n",
            "|10/20/2020|      2020|          1|  <18 years|Female (F)|      0|          3|          5|          0|               0|                  0|                    0|                    0|         0|                  0|          0|\n",
            "|10/20/2020|      2020|          1|  <18 years|  Male (M)|      0|          3|          3|          0|               0|                  0|                    0|                    0|         0|                  0|          0|\n",
            "|10/20/2020|      2020|          1|18-29 years|Female (F)|      0|         20|         36|          0|               0|                  0|                    0|                    0|         0|                  0|          0|\n",
            "|10/20/2020|      2020|          1|18-29 years|  Male (M)|      0|         44|         65|          0|               0|                  0|                    0|                    0|         0|                  0|          0|\n",
            "|10/20/2020|      2020|          1|30-39 years|Female (F)|      0|         53|        104|          0|               0|                  0|                    0|                    0|         0|                  0|          0|\n",
            "|10/20/2020|      2020|          1|30-39 years|  Male (M)|      0|         79|        161|          0|               0|                  0|                    0|                    0|         0|                  0|          0|\n",
            "|10/20/2020|      2020|          1|40-49 years|Female (F)|      0|        148|        326|          0|               0|                  0|                    0|                    0|         0|                  0|          0|\n",
            "|10/20/2020|      2020|          1|40-49 years|  Male (M)|      0|        261|        535|          0|               0|                  0|                    0|                    0|         0|                  0|          0|\n",
            "|10/20/2020|      2020|          1|50-59 years|Female (F)|      1|        365|        969|          0|               0|                  0|                    0|                    0|         0|                  0|          1|\n",
            "|10/20/2020|      2020|          1|50-59 years|  Male (M)|      0|        620|       1669|          0|               0|                  0|                    0|                    0|         0|                  0|          0|\n",
            "|10/20/2020|      2020|          1|50-64 years|Female (F)|      1|        671|       1856|          0|               0|                  0|                    0|                    0|         0|                  0|          1|\n",
            "|10/20/2020|      2020|          1|50-64 years|  Male (M)|      0|       1129|       3156|          0|               0|                  0|                    0|                    0|         0|                  0|          0|\n",
            "|10/20/2020|      2020|          1|60-69 years|Female (F)|      0|        733|       2120|          0|               0|                  0|                    0|                    0|         0|                  0|          0|\n",
            "|10/20/2020|      2020|          1|60-69 years|  Male (M)|      1|       1130|       3374|          0|               0|                  0|                    0|                    0|         0|                  0|          0|\n",
            "|10/20/2020|      2020|          1|65-74 years|Female (F)|      2|        918|       2798|          0|               0|                  1|                    1|                    0|         0|                  0|          0|\n",
            "|10/20/2020|      2020|          1|65-74 years|  Male (M)|      1|       1334|       4177|          0|               0|                  0|                    0|                    0|         0|                  0|          0|\n",
            "|10/20/2020|      2020|          1|70-79 years|Female (F)|      2|        971|       3188|          0|               0|                  1|                    1|                    0|         0|                  0|          0|\n",
            "|10/20/2020|      2020|          1|70-79 years|  Male (M)|      0|       1316|       4526|          0|               0|                  0|                    0|                    0|         0|                  0|          0|\n",
            "|10/20/2020|      2020|          1|75-84 years|Female (F)|      1|        993|       3328|          0|               0|                  0|                    0|                    0|         0|                  0|          0|\n",
            "|10/20/2020|      2020|          1|75-84 years|  Male (M)|      0|       1173|       4295|          0|               0|                  0|                    0|                    0|         0|                  0|          0|\n",
            "+----------+----------+-----------+-----------+----------+-------+-----------+-----------+-----------+----------------+-------------------+---------------------+---------------------+----------+-------------------+-----------+\n",
            "only showing top 20 rows\n",
            "\n"
          ]
        }
      ]
    },
    {
      "cell_type": "code",
      "metadata": {
        "colab": {
          "base_uri": "https://localhost:8080/"
        },
        "id": "ehEFvETcIi9F",
        "outputId": "2e4172bc-ade9-451b-9a41-ef36fa07bf14"
      },
      "source": [
        "# Find Count of Null, None, NaN of All DataFrame Columns\n",
        "from pyspark.sql.functions import col,isnan, when, count\n",
        "df.select([count(when(isnan(c) | col(c).isNull(), c)).alias(c) for c in df.columns]\n",
        "   ).show()"
      ],
      "execution_count": null,
      "outputs": [
        {
          "output_type": "stream",
          "name": "stdout",
          "text": [
            "+----+----------+-----------+--------+---+-------+-----------+-----------+-----------+----------------+-------------------+---------------------+---------------------+----------+-------------------+-----------+\n",
            "|date|death_year|death_month|agegroup|sex|covid19|diabetes_uc|diabetes_mc|c19_diabete|c19_hypertensive|c19_cardio_vascular|c19_hypertensive_mcvd|c19_lower_respiratory|c19_kidney|c19_liver_cirrhosis|c19_obesity|\n",
            "+----+----------+-----------+--------+---+-------+-----------+-----------+-----------+----------------+-------------------+---------------------+---------------------+----------+-------------------+-----------+\n",
            "|   0|         0|          0|       1|  0|      0|          0|          0|          0|               0|                  0|                    0|                    0|         0|                  0|          0|\n",
            "+----+----------+-----------+--------+---+-------+-----------+-----------+-----------+----------------+-------------------+---------------------+---------------------+----------+-------------------+-----------+\n",
            "\n"
          ]
        }
      ]
    },
    {
      "cell_type": "code",
      "metadata": {
        "colab": {
          "base_uri": "https://localhost:8080/"
        },
        "id": "1tHiwBGCSWDd",
        "outputId": "fd585537-a812-4dcb-a31b-a0779661cd8a"
      },
      "source": [
        "# Returning new dataframe named df_dropdup restricting rows with null values\n",
        "df_dropdup = df.dropna()\n",
        "df_dropdup.count()\n",
        "df_dropdup = df_dropdup.where(col('agegroup').isNotNull())\n",
        "df_dropdup.select([count(when(isnan(c) | col(c).isNull(), c)).alias(c) for c in df.columns]\n",
        "   ).show()"
      ],
      "execution_count": null,
      "outputs": [
        {
          "output_type": "stream",
          "name": "stdout",
          "text": [
            "+----+----------+-----------+--------+---+-------+-----------+-----------+-----------+----------------+-------------------+---------------------+---------------------+----------+-------------------+-----------+\n",
            "|date|death_year|death_month|agegroup|sex|covid19|diabetes_uc|diabetes_mc|c19_diabete|c19_hypertensive|c19_cardio_vascular|c19_hypertensive_mcvd|c19_lower_respiratory|c19_kidney|c19_liver_cirrhosis|c19_obesity|\n",
            "+----+----------+-----------+--------+---+-------+-----------+-----------+-----------+----------------+-------------------+---------------------+---------------------+----------+-------------------+-----------+\n",
            "|   0|         0|          0|       0|  0|      0|          0|          0|          0|               0|                  0|                    0|                    0|         0|                  0|          0|\n",
            "+----+----------+-----------+--------+---+-------+-----------+-----------+-----------+----------------+-------------------+---------------------+---------------------+----------+-------------------+-----------+\n",
            "\n"
          ]
        }
      ]
    },
    {
      "cell_type": "code",
      "metadata": {
        "colab": {
          "base_uri": "https://localhost:8080/"
        },
        "id": "SMGCkkj1TJi7",
        "outputId": "9a1cec53-8df9-4a2e-e363-d451a4abccee"
      },
      "source": [
        "# Drop 'date' and 'death_year' columns from a dataframe\n",
        "df_dropdup = df_dropdup.drop('date', 'death_year')\n",
        "df_dropdup.show()"
      ],
      "execution_count": null,
      "outputs": [
        {
          "output_type": "stream",
          "name": "stdout",
          "text": [
            "+-----------+-----------+----------+-------+-----------+-----------+-----------+----------------+-------------------+---------------------+---------------------+----------+-------------------+-----------+\n",
            "|death_month|   agegroup|       sex|covid19|diabetes_uc|diabetes_mc|c19_diabete|c19_hypertensive|c19_cardio_vascular|c19_hypertensive_mcvd|c19_lower_respiratory|c19_kidney|c19_liver_cirrhosis|c19_obesity|\n",
            "+-----------+-----------+----------+-------+-----------+-----------+-----------+----------------+-------------------+---------------------+---------------------+----------+-------------------+-----------+\n",
            "|          1|  <18 years|Female (F)|      0|          3|          5|          0|               0|                  0|                    0|                    0|         0|                  0|          0|\n",
            "|          1|  <18 years|  Male (M)|      0|          3|          3|          0|               0|                  0|                    0|                    0|         0|                  0|          0|\n",
            "|          1|18-29 years|Female (F)|      0|         20|         36|          0|               0|                  0|                    0|                    0|         0|                  0|          0|\n",
            "|          1|18-29 years|  Male (M)|      0|         44|         65|          0|               0|                  0|                    0|                    0|         0|                  0|          0|\n",
            "|          1|30-39 years|Female (F)|      0|         53|        104|          0|               0|                  0|                    0|                    0|         0|                  0|          0|\n",
            "|          1|30-39 years|  Male (M)|      0|         79|        161|          0|               0|                  0|                    0|                    0|         0|                  0|          0|\n",
            "|          1|40-49 years|Female (F)|      0|        148|        326|          0|               0|                  0|                    0|                    0|         0|                  0|          0|\n",
            "|          1|40-49 years|  Male (M)|      0|        261|        535|          0|               0|                  0|                    0|                    0|         0|                  0|          0|\n",
            "|          1|50-59 years|Female (F)|      1|        365|        969|          0|               0|                  0|                    0|                    0|         0|                  0|          1|\n",
            "|          1|50-59 years|  Male (M)|      0|        620|       1669|          0|               0|                  0|                    0|                    0|         0|                  0|          0|\n",
            "|          1|50-64 years|Female (F)|      1|        671|       1856|          0|               0|                  0|                    0|                    0|         0|                  0|          1|\n",
            "|          1|50-64 years|  Male (M)|      0|       1129|       3156|          0|               0|                  0|                    0|                    0|         0|                  0|          0|\n",
            "|          1|60-69 years|Female (F)|      0|        733|       2120|          0|               0|                  0|                    0|                    0|         0|                  0|          0|\n",
            "|          1|60-69 years|  Male (M)|      1|       1130|       3374|          0|               0|                  0|                    0|                    0|         0|                  0|          0|\n",
            "|          1|65-74 years|Female (F)|      2|        918|       2798|          0|               0|                  1|                    1|                    0|         0|                  0|          0|\n",
            "|          1|65-74 years|  Male (M)|      1|       1334|       4177|          0|               0|                  0|                    0|                    0|         0|                  0|          0|\n",
            "|          1|70-79 years|Female (F)|      2|        971|       3188|          0|               0|                  1|                    1|                    0|         0|                  0|          0|\n",
            "|          1|70-79 years|  Male (M)|      0|       1316|       4526|          0|               0|                  0|                    0|                    0|         0|                  0|          0|\n",
            "|          1|75-84 years|Female (F)|      1|        993|       3328|          0|               0|                  0|                    0|                    0|         0|                  0|          0|\n",
            "|          1|75-84 years|  Male (M)|      0|       1173|       4295|          0|               0|                  0|                    0|                    0|         0|                  0|          0|\n",
            "+-----------+-----------+----------+-------+-----------+-----------+-----------+----------------+-------------------+---------------------+---------------------+----------+-------------------+-----------+\n",
            "only showing top 20 rows\n",
            "\n"
          ]
        }
      ]
    },
    {
      "cell_type": "code",
      "metadata": {
        "colab": {
          "base_uri": "https://localhost:8080/"
        },
        "id": "VyBNWECMkIaj",
        "outputId": "e7d4617c-dc57-4b85-c7fc-68e67968fb2e"
      },
      "source": [
        "# Drop Unknown age rows which were existed in 'agegroup' column from a DataFrame\n",
        "df_dropdup = df_dropdup.filter((df_dropdup.agegroup != 'Unknown age'))\n",
        "df_dropdup.show()\n",
        "df_dropdup.count()"
      ],
      "execution_count": null,
      "outputs": [
        {
          "output_type": "stream",
          "name": "stdout",
          "text": [
            "+-----------+-----------+----------+-------+-----------+-----------+-----------+----------------+-------------------+---------------------+---------------------+----------+-------------------+-----------+\n",
            "|death_month|   agegroup|       sex|covid19|diabetes_uc|diabetes_mc|c19_diabete|c19_hypertensive|c19_cardio_vascular|c19_hypertensive_mcvd|c19_lower_respiratory|c19_kidney|c19_liver_cirrhosis|c19_obesity|\n",
            "+-----------+-----------+----------+-------+-----------+-----------+-----------+----------------+-------------------+---------------------+---------------------+----------+-------------------+-----------+\n",
            "|          1|  <18 years|Female (F)|      0|          3|          5|          0|               0|                  0|                    0|                    0|         0|                  0|          0|\n",
            "|          1|  <18 years|  Male (M)|      0|          3|          3|          0|               0|                  0|                    0|                    0|         0|                  0|          0|\n",
            "|          1|18-29 years|Female (F)|      0|         20|         36|          0|               0|                  0|                    0|                    0|         0|                  0|          0|\n",
            "|          1|18-29 years|  Male (M)|      0|         44|         65|          0|               0|                  0|                    0|                    0|         0|                  0|          0|\n",
            "|          1|30-39 years|Female (F)|      0|         53|        104|          0|               0|                  0|                    0|                    0|         0|                  0|          0|\n",
            "|          1|30-39 years|  Male (M)|      0|         79|        161|          0|               0|                  0|                    0|                    0|         0|                  0|          0|\n",
            "|          1|40-49 years|Female (F)|      0|        148|        326|          0|               0|                  0|                    0|                    0|         0|                  0|          0|\n",
            "|          1|40-49 years|  Male (M)|      0|        261|        535|          0|               0|                  0|                    0|                    0|         0|                  0|          0|\n",
            "|          1|50-59 years|Female (F)|      1|        365|        969|          0|               0|                  0|                    0|                    0|         0|                  0|          1|\n",
            "|          1|50-59 years|  Male (M)|      0|        620|       1669|          0|               0|                  0|                    0|                    0|         0|                  0|          0|\n",
            "|          1|50-64 years|Female (F)|      1|        671|       1856|          0|               0|                  0|                    0|                    0|         0|                  0|          1|\n",
            "|          1|50-64 years|  Male (M)|      0|       1129|       3156|          0|               0|                  0|                    0|                    0|         0|                  0|          0|\n",
            "|          1|60-69 years|Female (F)|      0|        733|       2120|          0|               0|                  0|                    0|                    0|         0|                  0|          0|\n",
            "|          1|60-69 years|  Male (M)|      1|       1130|       3374|          0|               0|                  0|                    0|                    0|         0|                  0|          0|\n",
            "|          1|65-74 years|Female (F)|      2|        918|       2798|          0|               0|                  1|                    1|                    0|         0|                  0|          0|\n",
            "|          1|65-74 years|  Male (M)|      1|       1334|       4177|          0|               0|                  0|                    0|                    0|         0|                  0|          0|\n",
            "|          1|70-79 years|Female (F)|      2|        971|       3188|          0|               0|                  1|                    1|                    0|         0|                  0|          0|\n",
            "|          1|70-79 years|  Male (M)|      0|       1316|       4526|          0|               0|                  0|                    0|                    0|         0|                  0|          0|\n",
            "|          1|75-84 years|Female (F)|      1|        993|       3328|          0|               0|                  0|                    0|                    0|         0|                  0|          0|\n",
            "|          1|75-84 years|  Male (M)|      0|       1173|       4295|          0|               0|                  0|                    0|                    0|         0|                  0|          0|\n",
            "+-----------+-----------+----------+-------+-----------+-----------+-----------+----------------+-------------------+---------------------+---------------------+----------+-------------------+-----------+\n",
            "only showing top 20 rows\n",
            "\n"
          ]
        },
        {
          "output_type": "execute_result",
          "data": {
            "text/plain": [
              "216"
            ]
          },
          "metadata": {},
          "execution_count": 26
        }
      ]
    },
    {
      "cell_type": "code",
      "metadata": {
        "colab": {
          "base_uri": "https://localhost:8080/"
        },
        "id": "F7q418Q5LiBX",
        "outputId": "126d9ef7-1597-4e54-b326-64eb2e1f3860"
      },
      "source": [
        "# Computes summary statistics\n",
        "df_dropdup.describe().show()\n",
        "df_dropdup.describe(['diabetes_uc', 'diabetes_mc']).show()"
      ],
      "execution_count": null,
      "outputs": [
        {
          "output_type": "stream",
          "name": "stdout",
          "text": [
            "+-------+-----------------+-----------+----------+------------------+------------------+------------------+------------------+------------------+-------------------+---------------------+---------------------+------------------+-------------------+-----------------+\n",
            "|summary|      death_month|   agegroup|       sex|           covid19|       diabetes_uc|       diabetes_mc|       c19_diabete|  c19_hypertensive|c19_cardio_vascular|c19_hypertensive_mcvd|c19_lower_respiratory|        c19_kidney|c19_liver_cirrhosis|      c19_obesity|\n",
            "+-------+-----------------+-----------+----------+------------------+------------------+------------------+------------------+------------------+-------------------+---------------------+---------------------+------------------+-------------------+-----------------+\n",
            "|  count|              216|        216|       216|               216|               216|               216|               216|               216|                216|                  216|                  216|               216|                216|              216|\n",
            "|   mean|              5.0|       null|      null|          1790.125| 659.2407407407408|2413.0555555555557| 293.7962962962963|391.09722222222223|   833.574074074074|     833.574074074074|   153.75462962962962|157.00925925925927| 14.560185185185185| 61.4537037037037|\n",
            "| stddev|2.587986556882522|       null|      null|2573.1342715939177|481.65135263514287|1918.2738550440959|370.84543910792394| 570.6365721548347|  1201.268551999258|    1201.268551999258|   214.14181342637553|200.58236122550153|  19.56851025126642|74.36039008857978|\n",
            "|    min|                1|18-29 years|Female (F)|                 0|                 0|                 1|                 0|                 0|                  0|                    0|                    0|                 0|                  0|                0|\n",
            "|    max|                9|  <18 years|  Male (M)|             15882|              1569|              7200|              1521|              3274|               7001|                 7001|                 1094|               957|                 89|              380|\n",
            "+-------+-----------------+-----------+----------+------------------+------------------+------------------+------------------+------------------+-------------------+---------------------+---------------------+------------------+-------------------+-----------------+\n",
            "\n",
            "+-------+------------------+------------------+\n",
            "|summary|       diabetes_uc|       diabetes_mc|\n",
            "+-------+------------------+------------------+\n",
            "|  count|               216|               216|\n",
            "|   mean| 659.2407407407408|2413.0555555555557|\n",
            "| stddev|481.65135263514287|1918.2738550440959|\n",
            "|    min|                 0|                 1|\n",
            "|    max|              1569|              7200|\n",
            "+-------+------------------+------------------+\n",
            "\n"
          ]
        }
      ]
    },
    {
      "cell_type": "markdown",
      "metadata": {
        "id": "eFdfuO1HVSJs"
      },
      "source": [
        "As we can see in the above table, the mean value for diabetes_uc is about 633 but mean of diabetes_mc is higher and equal to 2316! "
      ]
    },
    {
      "cell_type": "code",
      "metadata": {
        "colab": {
          "base_uri": "https://localhost:8080/"
        },
        "id": "9OpFNIYJgqpL",
        "outputId": "62f2daae-63d5-4800-9b8a-b9041688be32"
      },
      "source": [
        "# Find maximum value of covid19 column and return its related row\n",
        "v2 = df_dropdup.select(\"covid19\").rdd.max()[0] \n",
        "print(v2)\n",
        "df1 = df_dropdup.filter(df_dropdup.covid19 == v2)\n",
        "df1.show()"
      ],
      "execution_count": null,
      "outputs": [
        {
          "output_type": "stream",
          "name": "stdout",
          "text": [
            "15882\n",
            "+-----------+---------+----------+-------+-----------+-----------+-----------+----------------+-------------------+---------------------+---------------------+----------+-------------------+-----------+\n",
            "|death_month| agegroup|       sex|covid19|diabetes_uc|diabetes_mc|c19_diabete|c19_hypertensive|c19_cardio_vascular|c19_hypertensive_mcvd|c19_lower_respiratory|c19_kidney|c19_liver_cirrhosis|c19_obesity|\n",
            "+-----------+---------+----------+-------+-----------+-----------+-----------+----------------+-------------------+---------------------+---------------------+----------+-------------------+-----------+\n",
            "|          4|80+ years|Female (F)|  15882|       1569|       7200|       1521|            3274|               7001|                 7001|                 1094|       806|                 25|        100|\n",
            "+-----------+---------+----------+-------+-----------+-----------+-----------+----------------+-------------------+---------------------+---------------------+----------+-------------------+-----------+\n",
            "\n"
          ]
        }
      ]
    },
    {
      "cell_type": "markdown",
      "metadata": {
        "id": "LyeSQdpQro1v"
      },
      "source": [
        "As we see in the above table, the maximum death due to covid19 happened in April 2020 for females who were above 80 years old"
      ]
    },
    {
      "cell_type": "code",
      "metadata": {
        "colab": {
          "base_uri": "https://localhost:8080/"
        },
        "id": "7NGEFOzHoQuH",
        "outputId": "566f9998-31ac-4a74-cdfe-c1c723d69280"
      },
      "source": [
        "# Find outliers that are 3 standard deviation from the mean\n",
        "std_val = df_dropdup.agg({'diabetes_uc': 'stddev'}).collect()[0][0]\n",
        "mean_val = df_dropdup.agg({'diabetes_uc': 'mean'}).collect()[0][0]\n",
        "\n",
        "hi_bound = mean_val + (3 * std_val)\n",
        "print(hi_bound)\n",
        "low_bound = mean_val - (3 * std_val)\n",
        "print(low_bound)\n",
        "df2 = df_dropdup\n",
        "df2.where((df2['diabetes_uc'] < hi_bound) & (df2['diabetes_uc'] > low_bound)).count() \n",
        "\n",
        "\n",
        "std_val1 = df_dropdup.agg({'diabetes_mc': 'stddev'}).collect()[0][0]\n",
        "mean_val1 = df_dropdup.agg({'diabetes_mc': 'mean'}).collect()[0][0]\n",
        "\n",
        "hi_bound1 = mean_val1 + (3 * std_val1)\n",
        "print(hi_bound1)\n",
        "low_bound1 = mean_val1 - (3 * std_val1)\n",
        "print(low_bound1)\n",
        "df2.where((df2['diabetes_mc'] < hi_bound1) & (df2['diabetes_mc'] > low_bound1)).count()\n"
      ],
      "execution_count": null,
      "outputs": [
        {
          "output_type": "stream",
          "name": "stdout",
          "text": [
            "2104.1947986461696\n",
            "-785.713317164688\n",
            "8167.877120687844\n",
            "-3341.7660095767324\n"
          ]
        },
        {
          "output_type": "execute_result",
          "data": {
            "text/plain": [
              "216"
            ]
          },
          "metadata": {},
          "execution_count": 70
        }
      ]
    },
    {
      "cell_type": "markdown",
      "metadata": {
        "id": "yh7s9NoUq_3W"
      },
      "source": [
        "Therefore, the outlier for two columns, diabetes_uc and diabetes_mc which are 3 standard deviation from the mean, are 2104.19, -785.7, 8167.877 and -3341.76, respectively."
      ]
    },
    {
      "cell_type": "code",
      "metadata": {
        "colab": {
          "base_uri": "https://localhost:8080/"
        },
        "id": "HJqHUpUBjMVO",
        "outputId": "7aa53cda-78d9-46bf-8844-f56a17707f3f"
      },
      "source": [
        "# print the schema of the DataFrame to know more about the dataset\n",
        "df_dropdup.printSchema()\n",
        "# The DataFrame consists of 14 features or columns. Each column contains string-type or integer-type values."
      ],
      "execution_count": null,
      "outputs": [
        {
          "output_type": "stream",
          "name": "stdout",
          "text": [
            "root\n",
            " |-- death_month: integer (nullable = true)\n",
            " |-- agegroup: string (nullable = true)\n",
            " |-- sex: string (nullable = true)\n",
            " |-- covid19: integer (nullable = true)\n",
            " |-- diabetes_uc: integer (nullable = true)\n",
            " |-- diabetes_mc: integer (nullable = true)\n",
            " |-- c19_diabete: integer (nullable = true)\n",
            " |-- c19_hypertensive: integer (nullable = true)\n",
            " |-- c19_cardio_vascular: integer (nullable = true)\n",
            " |-- c19_hypertensive_mcvd: integer (nullable = true)\n",
            " |-- c19_lower_respiratory: integer (nullable = true)\n",
            " |-- c19_kidney: integer (nullable = true)\n",
            " |-- c19_liver_cirrhosis: integer (nullable = true)\n",
            " |-- c19_obesity: integer (nullable = true)\n",
            "\n"
          ]
        }
      ]
    },
    {
      "cell_type": "code",
      "metadata": {
        "colab": {
          "base_uri": "https://localhost:8080/"
        },
        "id": "r0m5KOQyiN5A",
        "outputId": "10b6287a-464c-4aa1-f969-2371fc5d9156"
      },
      "source": [
        "# Find unique values of a categorical column which is agegroup and sex in our dataset\n",
        "print(df_dropdup.select('agegroup').distinct().rdd.map(lambda r: r[0]).collect())\n",
        "print(df_dropdup.select('sex').distinct().rdd.map(lambda r: r[0]).collect())"
      ],
      "execution_count": null,
      "outputs": [
        {
          "output_type": "stream",
          "name": "stdout",
          "text": [
            "['85+ years', '50-59 years', '40-49 years', '70-79 years', '18-29 years', '60-69 years', '80+ years', '65-74 years', '75-84 years', '<18 years', '30-39 years', '50-64 years']\n",
            "['Female (F)', 'Male (M)']\n"
          ]
        }
      ]
    },
    {
      "cell_type": "code",
      "metadata": {
        "colab": {
          "base_uri": "https://localhost:8080/"
        },
        "id": "7KdZBUWqkptJ",
        "outputId": "ae8a2986-4bc8-4da5-ad79-a714d5bd2916"
      },
      "source": [
        "# Do the groupBy() on agegroup and sex columns and then find the sum of covid19 for each agegroup using sum() aggregate function and sort them\n",
        "df_dropdup.groupBy(\"agegroup\", \"sex\").sum(\"covid19\").sort(\"agegroup\").show(truncate=False)"
      ],
      "execution_count": null,
      "outputs": [
        {
          "output_type": "stream",
          "name": "stdout",
          "text": [
            "+-----------+----------+------------+\n",
            "|agegroup   |sex       |sum(covid19)|\n",
            "+-----------+----------+------------+\n",
            "|18-29 years|Female (F)|329         |\n",
            "|18-29 years|Male (M)  |583         |\n",
            "|30-39 years|Female (F)|827         |\n",
            "|30-39 years|Male (M)  |1740        |\n",
            "|40-49 years|Male (M)  |4569        |\n",
            "|40-49 years|Female (F)|2107        |\n",
            "|50-59 years|Male (M)  |11219       |\n",
            "|50-59 years|Female (F)|5628        |\n",
            "|50-64 years|Female (F)|11101       |\n",
            "|50-64 years|Male (M)  |20905       |\n",
            "|60-69 years|Male (M)  |21760       |\n",
            "|60-69 years|Female (F)|12697       |\n",
            "|65-74 years|Female (F)|16662       |\n",
            "|65-74 years|Male (M)  |26397       |\n",
            "|70-79 years|Male (M)  |28960       |\n",
            "|70-79 years|Female (F)|20230       |\n",
            "|75-84 years|Male (M)  |28935       |\n",
            "|75-84 years|Female (F)|23529       |\n",
            "|80+ years  |Female (F)|49108       |\n",
            "|80+ years  |Male (M)  |38602       |\n",
            "+-----------+----------+------------+\n",
            "only showing top 20 rows\n",
            "\n"
          ]
        }
      ]
    },
    {
      "cell_type": "code",
      "metadata": {
        "colab": {
          "base_uri": "https://localhost:8080/"
        },
        "id": "msID6xI8mjNT",
        "outputId": "d7604340-0a42-4611-eb22-004a86a5f0cc"
      },
      "source": [
        "# To see how many female and male died due to covid19\n",
        "df_dropdup.groupBy(\"sex\").sum(\"covid19\").show(truncate=False)"
      ],
      "execution_count": null,
      "outputs": [
        {
          "output_type": "stream",
          "name": "stdout",
          "text": [
            "+----------+------------+\n",
            "|sex       |sum(covid19)|\n",
            "+----------+------------+\n",
            "|Female (F)|178631      |\n",
            "|Male (M)  |208036      |\n",
            "+----------+------------+\n",
            "\n"
          ]
        }
      ]
    },
    {
      "cell_type": "markdown",
      "metadata": {
        "id": "pOElasrHuu8R"
      },
      "source": [
        "As we can see in the above table, the number of males who died due to covid19 is about 14% more than females. "
      ]
    },
    {
      "cell_type": "code",
      "metadata": {
        "colab": {
          "base_uri": "https://localhost:8080/"
        },
        "id": "c7uB-fDj6qKl",
        "outputId": "38ae20f1-db43-441e-f7eb-41b5c323df2c"
      },
      "source": [
        "# Sort the entire dataframe based on covid19 column(by default it is sorted in ascending order)\n",
        "df_dropdup.orderBy(\"covid19\").show()"
      ],
      "execution_count": null,
      "outputs": [
        {
          "output_type": "stream",
          "name": "stdout",
          "text": [
            "+-----------+-----------+----------+-------+-----------+-----------+-----------+----------------+-------------------+---------------------+---------------------+----------+-------------------+-----------+\n",
            "|death_month|   agegroup|       sex|covid19|diabetes_uc|diabetes_mc|c19_diabete|c19_hypertensive|c19_cardio_vascular|c19_hypertensive_mcvd|c19_lower_respiratory|c19_kidney|c19_liver_cirrhosis|c19_obesity|\n",
            "+-----------+-----------+----------+-------+-----------+-----------+-----------+----------------+-------------------+---------------------+---------------------+----------+-------------------+-----------+\n",
            "|          1|  <18 years|Female (F)|      0|          3|          5|          0|               0|                  0|                    0|                    0|         0|                  0|          0|\n",
            "|          1|  <18 years|  Male (M)|      0|          3|          3|          0|               0|                  0|                    0|                    0|         0|                  0|          0|\n",
            "|          1|18-29 years|Female (F)|      0|         20|         36|          0|               0|                  0|                    0|                    0|         0|                  0|          0|\n",
            "|          1|18-29 years|  Male (M)|      0|         44|         65|          0|               0|                  0|                    0|                    0|         0|                  0|          0|\n",
            "|          1|30-39 years|Female (F)|      0|         53|        104|          0|               0|                  0|                    0|                    0|         0|                  0|          0|\n",
            "|          1|30-39 years|  Male (M)|      0|         79|        161|          0|               0|                  0|                    0|                    0|         0|                  0|          0|\n",
            "|          1|40-49 years|Female (F)|      0|        148|        326|          0|               0|                  0|                    0|                    0|         0|                  0|          0|\n",
            "|          1|40-49 years|  Male (M)|      0|        261|        535|          0|               0|                  0|                    0|                    0|         0|                  0|          0|\n",
            "|          1|50-59 years|  Male (M)|      0|        620|       1669|          0|               0|                  0|                    0|                    0|         0|                  0|          0|\n",
            "|          1|50-64 years|  Male (M)|      0|       1129|       3156|          0|               0|                  0|                    0|                    0|         0|                  0|          0|\n",
            "|          1|60-69 years|Female (F)|      0|        733|       2120|          0|               0|                  0|                    0|                    0|         0|                  0|          0|\n",
            "|          1|70-79 years|  Male (M)|      0|       1316|       4526|          0|               0|                  0|                    0|                    0|         0|                  0|          0|\n",
            "|          1|75-84 years|  Male (M)|      0|       1173|       4295|          0|               0|                  0|                    0|                    0|         0|                  0|          0|\n",
            "|          2|  <18 years|Female (F)|      0|          4|          6|          0|               0|                  0|                    0|                    0|         0|                  0|          0|\n",
            "|          2|  <18 years|  Male (M)|      0|          2|          3|          0|               0|                  0|                    0|                    0|         0|                  0|          0|\n",
            "|          2|18-29 years|Female (F)|      0|         22|         37|          0|               0|                  0|                    0|                    0|         0|                  0|          0|\n",
            "|          2|18-29 years|  Male (M)|      0|         29|         49|          0|               0|                  0|                    0|                    0|         0|                  0|          0|\n",
            "|          2|30-39 years|  Male (M)|      0|         89|        171|          0|               0|                  0|                    0|                    0|         0|                  0|          0|\n",
            "|          2|40-49 years|Female (F)|      0|        109|        301|          0|               0|                  0|                    0|                    0|         0|                  0|          0|\n",
            "|          2|40-49 years|  Male (M)|      0|        211|        478|          0|               0|                  0|                    0|                    0|         0|                  0|          0|\n",
            "+-----------+-----------+----------+-------+-----------+-----------+-----------+----------------+-------------------+---------------------+---------------------+----------+-------------------+-----------+\n",
            "only showing top 20 rows\n",
            "\n"
          ]
        }
      ]
    },
    {
      "cell_type": "code",
      "metadata": {
        "colab": {
          "base_uri": "https://localhost:8080/"
        },
        "id": "PHdAFypG84oP",
        "outputId": "1efcaf6c-83d5-45cc-b332-6928c8a66e2a"
      },
      "source": [
        "# To return Array of Row type not a DataFrame use collect() which returns data in an Array to the driver.\n",
        "df_dropdup.collect()"
      ],
      "execution_count": null,
      "outputs": [
        {
          "output_type": "execute_result",
          "data": {
            "text/plain": [
              "[Row(death_month=1, agegroup='<18 years', sex='Female (F)', covid19=0, diabetes_uc=3, diabetes_mc=5, c19_diabete=0, c19_hypertensive=0, c19_cardio_vascular=0, c19_hypertensive_mcvd=0, c19_lower_respiratory=0, c19_kidney=0, c19_liver_cirrhosis=0, c19_obesity=0),\n",
              " Row(death_month=1, agegroup='<18 years', sex='Male (M)', covid19=0, diabetes_uc=3, diabetes_mc=3, c19_diabete=0, c19_hypertensive=0, c19_cardio_vascular=0, c19_hypertensive_mcvd=0, c19_lower_respiratory=0, c19_kidney=0, c19_liver_cirrhosis=0, c19_obesity=0),\n",
              " Row(death_month=1, agegroup='18-29 years', sex='Female (F)', covid19=0, diabetes_uc=20, diabetes_mc=36, c19_diabete=0, c19_hypertensive=0, c19_cardio_vascular=0, c19_hypertensive_mcvd=0, c19_lower_respiratory=0, c19_kidney=0, c19_liver_cirrhosis=0, c19_obesity=0),\n",
              " Row(death_month=1, agegroup='18-29 years', sex='Male (M)', covid19=0, diabetes_uc=44, diabetes_mc=65, c19_diabete=0, c19_hypertensive=0, c19_cardio_vascular=0, c19_hypertensive_mcvd=0, c19_lower_respiratory=0, c19_kidney=0, c19_liver_cirrhosis=0, c19_obesity=0),\n",
              " Row(death_month=1, agegroup='30-39 years', sex='Female (F)', covid19=0, diabetes_uc=53, diabetes_mc=104, c19_diabete=0, c19_hypertensive=0, c19_cardio_vascular=0, c19_hypertensive_mcvd=0, c19_lower_respiratory=0, c19_kidney=0, c19_liver_cirrhosis=0, c19_obesity=0),\n",
              " Row(death_month=1, agegroup='30-39 years', sex='Male (M)', covid19=0, diabetes_uc=79, diabetes_mc=161, c19_diabete=0, c19_hypertensive=0, c19_cardio_vascular=0, c19_hypertensive_mcvd=0, c19_lower_respiratory=0, c19_kidney=0, c19_liver_cirrhosis=0, c19_obesity=0),\n",
              " Row(death_month=1, agegroup='40-49 years', sex='Female (F)', covid19=0, diabetes_uc=148, diabetes_mc=326, c19_diabete=0, c19_hypertensive=0, c19_cardio_vascular=0, c19_hypertensive_mcvd=0, c19_lower_respiratory=0, c19_kidney=0, c19_liver_cirrhosis=0, c19_obesity=0),\n",
              " Row(death_month=1, agegroup='40-49 years', sex='Male (M)', covid19=0, diabetes_uc=261, diabetes_mc=535, c19_diabete=0, c19_hypertensive=0, c19_cardio_vascular=0, c19_hypertensive_mcvd=0, c19_lower_respiratory=0, c19_kidney=0, c19_liver_cirrhosis=0, c19_obesity=0),\n",
              " Row(death_month=1, agegroup='50-59 years', sex='Female (F)', covid19=1, diabetes_uc=365, diabetes_mc=969, c19_diabete=0, c19_hypertensive=0, c19_cardio_vascular=0, c19_hypertensive_mcvd=0, c19_lower_respiratory=0, c19_kidney=0, c19_liver_cirrhosis=0, c19_obesity=1),\n",
              " Row(death_month=1, agegroup='50-59 years', sex='Male (M)', covid19=0, diabetes_uc=620, diabetes_mc=1669, c19_diabete=0, c19_hypertensive=0, c19_cardio_vascular=0, c19_hypertensive_mcvd=0, c19_lower_respiratory=0, c19_kidney=0, c19_liver_cirrhosis=0, c19_obesity=0),\n",
              " Row(death_month=1, agegroup='50-64 years', sex='Female (F)', covid19=1, diabetes_uc=671, diabetes_mc=1856, c19_diabete=0, c19_hypertensive=0, c19_cardio_vascular=0, c19_hypertensive_mcvd=0, c19_lower_respiratory=0, c19_kidney=0, c19_liver_cirrhosis=0, c19_obesity=1),\n",
              " Row(death_month=1, agegroup='50-64 years', sex='Male (M)', covid19=0, diabetes_uc=1129, diabetes_mc=3156, c19_diabete=0, c19_hypertensive=0, c19_cardio_vascular=0, c19_hypertensive_mcvd=0, c19_lower_respiratory=0, c19_kidney=0, c19_liver_cirrhosis=0, c19_obesity=0),\n",
              " Row(death_month=1, agegroup='60-69 years', sex='Female (F)', covid19=0, diabetes_uc=733, diabetes_mc=2120, c19_diabete=0, c19_hypertensive=0, c19_cardio_vascular=0, c19_hypertensive_mcvd=0, c19_lower_respiratory=0, c19_kidney=0, c19_liver_cirrhosis=0, c19_obesity=0),\n",
              " Row(death_month=1, agegroup='60-69 years', sex='Male (M)', covid19=1, diabetes_uc=1130, diabetes_mc=3374, c19_diabete=0, c19_hypertensive=0, c19_cardio_vascular=0, c19_hypertensive_mcvd=0, c19_lower_respiratory=0, c19_kidney=0, c19_liver_cirrhosis=0, c19_obesity=0),\n",
              " Row(death_month=1, agegroup='65-74 years', sex='Female (F)', covid19=2, diabetes_uc=918, diabetes_mc=2798, c19_diabete=0, c19_hypertensive=0, c19_cardio_vascular=1, c19_hypertensive_mcvd=1, c19_lower_respiratory=0, c19_kidney=0, c19_liver_cirrhosis=0, c19_obesity=0),\n",
              " Row(death_month=1, agegroup='65-74 years', sex='Male (M)', covid19=1, diabetes_uc=1334, diabetes_mc=4177, c19_diabete=0, c19_hypertensive=0, c19_cardio_vascular=0, c19_hypertensive_mcvd=0, c19_lower_respiratory=0, c19_kidney=0, c19_liver_cirrhosis=0, c19_obesity=0),\n",
              " Row(death_month=1, agegroup='70-79 years', sex='Female (F)', covid19=2, diabetes_uc=971, diabetes_mc=3188, c19_diabete=0, c19_hypertensive=0, c19_cardio_vascular=1, c19_hypertensive_mcvd=1, c19_lower_respiratory=0, c19_kidney=0, c19_liver_cirrhosis=0, c19_obesity=0),\n",
              " Row(death_month=1, agegroup='70-79 years', sex='Male (M)', covid19=0, diabetes_uc=1316, diabetes_mc=4526, c19_diabete=0, c19_hypertensive=0, c19_cardio_vascular=0, c19_hypertensive_mcvd=0, c19_lower_respiratory=0, c19_kidney=0, c19_liver_cirrhosis=0, c19_obesity=0),\n",
              " Row(death_month=1, agegroup='75-84 years', sex='Female (F)', covid19=1, diabetes_uc=993, diabetes_mc=3328, c19_diabete=0, c19_hypertensive=0, c19_cardio_vascular=0, c19_hypertensive_mcvd=0, c19_lower_respiratory=0, c19_kidney=0, c19_liver_cirrhosis=0, c19_obesity=0),\n",
              " Row(death_month=1, agegroup='75-84 years', sex='Male (M)', covid19=0, diabetes_uc=1173, diabetes_mc=4295, c19_diabete=0, c19_hypertensive=0, c19_cardio_vascular=0, c19_hypertensive_mcvd=0, c19_lower_respiratory=0, c19_kidney=0, c19_liver_cirrhosis=0, c19_obesity=0),\n",
              " Row(death_month=1, agegroup='80+ years', sex='Female (F)', covid19=2, diabetes_uc=1440, diabetes_mc=5112, c19_diabete=0, c19_hypertensive=0, c19_cardio_vascular=0, c19_hypertensive_mcvd=0, c19_lower_respiratory=1, c19_kidney=0, c19_liver_cirrhosis=0, c19_obesity=0),\n",
              " Row(death_month=1, agegroup='80+ years', sex='Male (M)', covid19=1, diabetes_uc=1289, diabetes_mc=4856, c19_diabete=0, c19_hypertensive=1, c19_cardio_vascular=1, c19_hypertensive_mcvd=1, c19_lower_respiratory=1, c19_kidney=0, c19_liver_cirrhosis=0, c19_obesity=0),\n",
              " Row(death_month=1, agegroup='85+ years', sex='Female (F)', covid19=1, diabetes_uc=927, diabetes_mc=3407, c19_diabete=0, c19_hypertensive=0, c19_cardio_vascular=0, c19_hypertensive_mcvd=0, c19_lower_respiratory=1, c19_kidney=0, c19_liver_cirrhosis=0, c19_obesity=0),\n",
              " Row(death_month=1, agegroup='85+ years', sex='Male (M)', covid19=1, diabetes_uc=719, diabetes_mc=2797, c19_diabete=0, c19_hypertensive=1, c19_cardio_vascular=1, c19_hypertensive_mcvd=1, c19_lower_respiratory=1, c19_kidney=0, c19_liver_cirrhosis=0, c19_obesity=0),\n",
              " Row(death_month=2, agegroup='<18 years', sex='Female (F)', covid19=0, diabetes_uc=4, diabetes_mc=6, c19_diabete=0, c19_hypertensive=0, c19_cardio_vascular=0, c19_hypertensive_mcvd=0, c19_lower_respiratory=0, c19_kidney=0, c19_liver_cirrhosis=0, c19_obesity=0),\n",
              " Row(death_month=2, agegroup='<18 years', sex='Male (M)', covid19=0, diabetes_uc=2, diabetes_mc=3, c19_diabete=0, c19_hypertensive=0, c19_cardio_vascular=0, c19_hypertensive_mcvd=0, c19_lower_respiratory=0, c19_kidney=0, c19_liver_cirrhosis=0, c19_obesity=0),\n",
              " Row(death_month=2, agegroup='18-29 years', sex='Female (F)', covid19=0, diabetes_uc=22, diabetes_mc=37, c19_diabete=0, c19_hypertensive=0, c19_cardio_vascular=0, c19_hypertensive_mcvd=0, c19_lower_respiratory=0, c19_kidney=0, c19_liver_cirrhosis=0, c19_obesity=0),\n",
              " Row(death_month=2, agegroup='18-29 years', sex='Male (M)', covid19=0, diabetes_uc=29, diabetes_mc=49, c19_diabete=0, c19_hypertensive=0, c19_cardio_vascular=0, c19_hypertensive_mcvd=0, c19_lower_respiratory=0, c19_kidney=0, c19_liver_cirrhosis=0, c19_obesity=0),\n",
              " Row(death_month=2, agegroup='30-39 years', sex='Female (F)', covid19=2, diabetes_uc=46, diabetes_mc=102, c19_diabete=1, c19_hypertensive=1, c19_cardio_vascular=1, c19_hypertensive_mcvd=1, c19_lower_respiratory=0, c19_kidney=0, c19_liver_cirrhosis=0, c19_obesity=1),\n",
              " Row(death_month=2, agegroup='30-39 years', sex='Male (M)', covid19=0, diabetes_uc=89, diabetes_mc=171, c19_diabete=0, c19_hypertensive=0, c19_cardio_vascular=0, c19_hypertensive_mcvd=0, c19_lower_respiratory=0, c19_kidney=0, c19_liver_cirrhosis=0, c19_obesity=0),\n",
              " Row(death_month=2, agegroup='40-49 years', sex='Female (F)', covid19=0, diabetes_uc=109, diabetes_mc=301, c19_diabete=0, c19_hypertensive=0, c19_cardio_vascular=0, c19_hypertensive_mcvd=0, c19_lower_respiratory=0, c19_kidney=0, c19_liver_cirrhosis=0, c19_obesity=0),\n",
              " Row(death_month=2, agegroup='40-49 years', sex='Male (M)', covid19=0, diabetes_uc=211, diabetes_mc=478, c19_diabete=0, c19_hypertensive=0, c19_cardio_vascular=0, c19_hypertensive_mcvd=0, c19_lower_respiratory=0, c19_kidney=0, c19_liver_cirrhosis=0, c19_obesity=0),\n",
              " Row(death_month=2, agegroup='50-59 years', sex='Female (F)', covid19=1, diabetes_uc=356, diabetes_mc=877, c19_diabete=0, c19_hypertensive=0, c19_cardio_vascular=1, c19_hypertensive_mcvd=1, c19_lower_respiratory=0, c19_kidney=0, c19_liver_cirrhosis=0, c19_obesity=1),\n",
              " Row(death_month=2, agegroup='50-59 years', sex='Male (M)', covid19=4, diabetes_uc=622, diabetes_mc=1631, c19_diabete=1, c19_hypertensive=1, c19_cardio_vascular=2, c19_hypertensive_mcvd=2, c19_lower_respiratory=0, c19_kidney=0, c19_liver_cirrhosis=0, c19_obesity=0),\n",
              " Row(death_month=2, agegroup='50-64 years', sex='Female (F)', covid19=2, diabetes_uc=667, diabetes_mc=1752, c19_diabete=0, c19_hypertensive=0, c19_cardio_vascular=1, c19_hypertensive_mcvd=1, c19_lower_respiratory=0, c19_kidney=0, c19_liver_cirrhosis=0, c19_obesity=1),\n",
              " Row(death_month=2, agegroup='50-64 years', sex='Male (M)', covid19=4, diabetes_uc=1164, diabetes_mc=3091, c19_diabete=1, c19_hypertensive=1, c19_cardio_vascular=2, c19_hypertensive_mcvd=2, c19_lower_respiratory=0, c19_kidney=0, c19_liver_cirrhosis=0, c19_obesity=0),\n",
              " Row(death_month=2, agegroup='60-69 years', sex='Female (F)', covid19=2, diabetes_uc=736, diabetes_mc=2083, c19_diabete=0, c19_hypertensive=0, c19_cardio_vascular=0, c19_hypertensive_mcvd=0, c19_lower_respiratory=0, c19_kidney=0, c19_liver_cirrhosis=0, c19_obesity=0),\n",
              " Row(death_month=2, agegroup='60-69 years', sex='Male (M)', covid19=1, diabetes_uc=1129, diabetes_mc=3185, c19_diabete=1, c19_hypertensive=1, c19_cardio_vascular=1, c19_hypertensive_mcvd=1, c19_lower_respiratory=0, c19_kidney=0, c19_liver_cirrhosis=0, c19_obesity=0),\n",
              " Row(death_month=2, agegroup='65-74 years', sex='Female (F)', covid19=2, diabetes_uc=871, diabetes_mc=2624, c19_diabete=1, c19_hypertensive=0, c19_cardio_vascular=1, c19_hypertensive_mcvd=1, c19_lower_respiratory=0, c19_kidney=0, c19_liver_cirrhosis=0, c19_obesity=0),\n",
              " Row(death_month=2, agegroup='65-74 years', sex='Male (M)', covid19=2, diabetes_uc=1225, diabetes_mc=3798, c19_diabete=1, c19_hypertensive=1, c19_cardio_vascular=1, c19_hypertensive_mcvd=1, c19_lower_respiratory=0, c19_kidney=0, c19_liver_cirrhosis=0, c19_obesity=0),\n",
              " Row(death_month=2, agegroup='70-79 years', sex='Female (F)', covid19=1, diabetes_uc=929, diabetes_mc=2983, c19_diabete=1, c19_hypertensive=0, c19_cardio_vascular=1, c19_hypertensive_mcvd=1, c19_lower_respiratory=0, c19_kidney=0, c19_liver_cirrhosis=0, c19_obesity=0),\n",
              " Row(death_month=2, agegroup='70-79 years', sex='Male (M)', covid19=1, diabetes_uc=1227, diabetes_mc=4127, c19_diabete=0, c19_hypertensive=0, c19_cardio_vascular=0, c19_hypertensive_mcvd=0, c19_lower_respiratory=0, c19_kidney=0, c19_liver_cirrhosis=0, c19_obesity=0),\n",
              " Row(death_month=2, agegroup='75-84 years', sex='Female (F)', covid19=1, diabetes_uc=901, diabetes_mc=3082, c19_diabete=0, c19_hypertensive=0, c19_cardio_vascular=0, c19_hypertensive_mcvd=0, c19_lower_respiratory=0, c19_kidney=0, c19_liver_cirrhosis=0, c19_obesity=0),\n",
              " Row(death_month=2, agegroup='75-84 years', sex='Male (M)', covid19=1, diabetes_uc=1090, diabetes_mc=3962, c19_diabete=0, c19_hypertensive=1, c19_cardio_vascular=1, c19_hypertensive_mcvd=1, c19_lower_respiratory=1, c19_kidney=0, c19_liver_cirrhosis=0, c19_obesity=0),\n",
              " Row(death_month=2, agegroup='80+ years', sex='Female (F)', covid19=3, diabetes_uc=1270, diabetes_mc=4765, c19_diabete=0, c19_hypertensive=1, c19_cardio_vascular=1, c19_hypertensive_mcvd=1, c19_lower_respiratory=0, c19_kidney=0, c19_liver_cirrhosis=0, c19_obesity=0),\n",
              " Row(death_month=2, agegroup='80+ years', sex='Male (M)', covid19=1, diabetes_uc=1212, diabetes_mc=4524, c19_diabete=0, c19_hypertensive=1, c19_cardio_vascular=1, c19_hypertensive_mcvd=1, c19_lower_respiratory=1, c19_kidney=0, c19_liver_cirrhosis=0, c19_obesity=0),\n",
              " Row(death_month=2, agegroup='85+ years', sex='Female (F)', covid19=2, diabetes_uc=852, diabetes_mc=3250, c19_diabete=0, c19_hypertensive=1, c19_cardio_vascular=1, c19_hypertensive_mcvd=1, c19_lower_respiratory=0, c19_kidney=0, c19_liver_cirrhosis=0, c19_obesity=0),\n",
              " Row(death_month=2, agegroup='85+ years', sex='Male (M)', covid19=0, diabetes_uc=711, diabetes_mc=2616, c19_diabete=0, c19_hypertensive=0, c19_cardio_vascular=0, c19_hypertensive_mcvd=0, c19_lower_respiratory=0, c19_kidney=0, c19_liver_cirrhosis=0, c19_obesity=0),\n",
              " Row(death_month=3, agegroup='<18 years', sex='Female (F)', covid19=1, diabetes_uc=1, diabetes_mc=1, c19_diabete=0, c19_hypertensive=0, c19_cardio_vascular=0, c19_hypertensive_mcvd=0, c19_lower_respiratory=0, c19_kidney=0, c19_liver_cirrhosis=0, c19_obesity=0),\n",
              " Row(death_month=3, agegroup='<18 years', sex='Male (M)', covid19=6, diabetes_uc=2, diabetes_mc=2, c19_diabete=0, c19_hypertensive=0, c19_cardio_vascular=2, c19_hypertensive_mcvd=2, c19_lower_respiratory=1, c19_kidney=0, c19_liver_cirrhosis=0, c19_obesity=1),\n",
              " Row(death_month=3, agegroup='18-29 years', sex='Female (F)', covid19=11, diabetes_uc=27, diabetes_mc=45, c19_diabete=3, c19_hypertensive=1, c19_cardio_vascular=3, c19_hypertensive_mcvd=3, c19_lower_respiratory=0, c19_kidney=1, c19_liver_cirrhosis=0, c19_obesity=3),\n",
              " Row(death_month=3, agegroup='18-29 years', sex='Male (M)', covid19=35, diabetes_uc=35, diabetes_mc=52, c19_diabete=6, c19_hypertensive=1, c19_cardio_vascular=12, c19_hypertensive_mcvd=12, c19_lower_respiratory=2, c19_kidney=2, c19_liver_cirrhosis=0, c19_obesity=5),\n",
              " Row(death_month=3, agegroup='30-39 years', sex='Female (F)', covid19=40, diabetes_uc=72, diabetes_mc=145, c19_diabete=3, c19_hypertensive=6, c19_cardio_vascular=20, c19_hypertensive_mcvd=20, c19_lower_respiratory=4, c19_kidney=6, c19_liver_cirrhosis=2, c19_obesity=9),\n",
              " Row(death_month=3, agegroup='30-39 years', sex='Male (M)', covid19=123, diabetes_uc=99, diabetes_mc=188, c19_diabete=20, c19_hypertensive=16, c19_cardio_vascular=45, c19_hypertensive_mcvd=45, c19_lower_respiratory=4, c19_kidney=12, c19_liver_cirrhosis=2, c19_obesity=26),\n",
              " Row(death_month=3, agegroup='40-49 years', sex='Female (F)', covid19=94, diabetes_uc=129, diabetes_mc=354, c19_diabete=16, c19_hypertensive=21, c19_cardio_vascular=40, c19_hypertensive_mcvd=40, c19_lower_respiratory=10, c19_kidney=3, c19_liver_cirrhosis=0, c19_obesity=20),\n",
              " Row(death_month=3, agegroup='40-49 years', sex='Male (M)', covid19=252, diabetes_uc=237, diabetes_mc=633, c19_diabete=53, c19_hypertensive=33, c19_cardio_vascular=81, c19_hypertensive_mcvd=81, c19_lower_respiratory=12, c19_kidney=22, c19_liver_cirrhosis=6, c19_obesity=24),\n",
              " Row(death_month=3, agegroup='50-59 years', sex='Female (F)', covid19=232, diabetes_uc=343, diabetes_mc=1011, c19_diabete=50, c19_hypertensive=47, c19_cardio_vascular=100, c19_hypertensive_mcvd=100, c19_lower_respiratory=17, c19_kidney=16, c19_liver_cirrhosis=1, c19_obesity=26),\n",
              " Row(death_month=3, agegroup='50-59 years', sex='Male (M)', covid19=537, diabetes_uc=675, diabetes_mc=1785, c19_diabete=98, c19_hypertensive=95, c19_cardio_vascular=210, c19_hypertensive_mcvd=210, c19_lower_respiratory=32, c19_kidney=44, c19_liver_cirrhosis=3, c19_obesity=44),\n",
              " Row(death_month=3, agegroup='50-64 years', sex='Female (F)', covid19=416, diabetes_uc=663, diabetes_mc=2033, c19_diabete=88, c19_hypertensive=87, c19_cardio_vascular=178, c19_hypertensive_mcvd=178, c19_lower_respiratory=35, c19_kidney=32, c19_liver_cirrhosis=2, c19_obesity=36),\n",
              " Row(death_month=3, agegroup='50-64 years', sex='Male (M)', covid19=931, diabetes_uc=1228, diabetes_mc=3483, c19_diabete=175, c19_hypertensive=180, c19_cardio_vascular=379, c19_hypertensive_mcvd=379, c19_lower_respiratory=60, c19_kidney=85, c19_liver_cirrhosis=7, c19_obesity=68),\n",
              " Row(death_month=3, agegroup='60-69 years', sex='Female (F)', covid19=445, diabetes_uc=742, diabetes_mc=2371, c19_diabete=81, c19_hypertensive=100, c19_cardio_vascular=194, c19_hypertensive_mcvd=194, c19_lower_respiratory=46, c19_kidney=38, c19_liver_cirrhosis=6, c19_obesity=19),\n",
              " Row(death_month=3, agegroup='60-69 years', sex='Male (M)', covid19=850, diabetes_uc=1207, diabetes_mc=3781, c19_diabete=163, c19_hypertensive=181, c19_cardio_vascular=366, c19_hypertensive_mcvd=366, c19_lower_respiratory=70, c19_kidney=84, c19_liver_cirrhosis=8, c19_obesity=32),\n",
              " Row(death_month=3, agegroup='65-74 years', sex='Female (F)', covid19=583, diabetes_uc=937, diabetes_mc=2976, c19_diabete=99, c19_hypertensive=132, c19_cardio_vascular=267, c19_hypertensive_mcvd=267, c19_lower_respiratory=63, c19_kidney=47, c19_liver_cirrhosis=6, c19_obesity=21),\n",
              " Row(death_month=3, agegroup='65-74 years', sex='Male (M)', covid19=1040, diabetes_uc=1378, diabetes_mc=4515, c19_diabete=174, c19_hypertensive=214, c19_cardio_vascular=462, c19_hypertensive_mcvd=462, c19_lower_respiratory=83, c19_kidney=103, c19_liver_cirrhosis=6, c19_obesity=18),\n",
              " Row(death_month=3, agegroup='70-79 years', sex='Female (F)', covid19=703, diabetes_uc=1043, diabetes_mc=3410, c19_diabete=114, c19_hypertensive=148, c19_cardio_vascular=324, c19_hypertensive_mcvd=324, c19_lower_respiratory=83, c19_kidney=47, c19_liver_cirrhosis=3, c19_obesity=19),\n",
              " Row(death_month=3, agegroup='70-79 years', sex='Male (M)', covid19=1123, diabetes_uc=1359, diabetes_mc=4729, c19_diabete=166, c19_hypertensive=239, c19_cardio_vascular=510, c19_hypertensive_mcvd=510, c19_lower_respiratory=92, c19_kidney=112, c19_liver_cirrhosis=3, c19_obesity=20),\n",
              " Row(death_month=3, agegroup='75-84 years', sex='Female (F)', covid19=762, diabetes_uc=1024, diabetes_mc=3566, c19_diabete=93, c19_hypertensive=151, c19_cardio_vascular=329, c19_hypertensive_mcvd=329, c19_lower_respiratory=92, c19_kidney=42, c19_liver_cirrhosis=2, c19_obesity=9),\n",
              " Row(death_month=3, agegroup='75-84 years', sex='Male (M)', covid19=1099, diabetes_uc=1166, diabetes_mc=4474, c19_diabete=156, c19_hypertensive=246, c19_cardio_vascular=497, c19_hypertensive_mcvd=497, c19_lower_respiratory=109, c19_kidney=94, c19_liver_cirrhosis=3, c19_obesity=13),\n",
              " Row(death_month=3, agegroup='80+ years', sex='Female (F)', covid19=1234, diabetes_uc=1434, diabetes_mc=5480, c19_diabete=96, c19_hypertensive=239, c19_cardio_vascular=539, c19_hypertensive_mcvd=539, c19_lower_respiratory=118, c19_kidney=55, c19_liver_cirrhosis=1, c19_obesity=4),\n",
              " Row(death_month=3, agegroup='80+ years', sex='Male (M)', covid19=1395, diabetes_uc=1281, diabetes_mc=5194, c19_diabete=166, c19_hypertensive=284, c19_cardio_vascular=622, c19_hypertensive_mcvd=622, c19_lower_respiratory=125, c19_kidney=90, c19_liver_cirrhosis=3, c19_obesity=6),\n",
              " Row(death_month=3, agegroup='85+ years', sex='Female (F)', covid19=853, diabetes_uc=938, diabetes_mc=3697, c19_diabete=61, c19_hypertensive=164, c19_cardio_vascular=383, c19_hypertensive_mcvd=383, c19_lower_respiratory=74, c19_kidney=35, c19_liver_cirrhosis=1, c19_obesity=2),\n",
              " Row(death_month=3, agegroup='85+ years', sex='Male (M)', covid19=835, diabetes_uc=750, diabetes_mc=3017, c19_diabete=88, c19_hypertensive=159, c19_cardio_vascular=370, c19_hypertensive_mcvd=370, c19_lower_respiratory=67, c19_kidney=48, c19_liver_cirrhosis=1, c19_obesity=3),\n",
              " Row(death_month=4, agegroup='<18 years', sex='Female (F)', covid19=9, diabetes_uc=5, diabetes_mc=6, c19_diabete=0, c19_hypertensive=0, c19_cardio_vascular=3, c19_hypertensive_mcvd=3, c19_lower_respiratory=3, c19_kidney=0, c19_liver_cirrhosis=0, c19_obesity=2),\n",
              " Row(death_month=4, agegroup='<18 years', sex='Male (M)', covid19=7, diabetes_uc=4, diabetes_mc=5, c19_diabete=1, c19_hypertensive=0, c19_cardio_vascular=1, c19_hypertensive_mcvd=1, c19_lower_respiratory=0, c19_kidney=0, c19_liver_cirrhosis=0, c19_obesity=1),\n",
              " Row(death_month=4, agegroup='18-29 years', sex='Female (F)', covid19=76, diabetes_uc=21, diabetes_mc=40, c19_diabete=5, c19_hypertensive=6, c19_cardio_vascular=25, c19_hypertensive_mcvd=25, c19_lower_respiratory=4, c19_kidney=6, c19_liver_cirrhosis=0, c19_obesity=15),\n",
              " Row(death_month=4, agegroup='18-29 years', sex='Male (M)', covid19=146, diabetes_uc=42, diabetes_mc=77, c19_diabete=17, c19_hypertensive=9, c19_cardio_vascular=47, c19_hypertensive_mcvd=47, c19_lower_respiratory=11, c19_kidney=13, c19_liver_cirrhosis=0, c19_obesity=31),\n",
              " Row(death_month=4, agegroup='30-39 years', sex='Female (F)', covid19=190, diabetes_uc=55, diabetes_mc=138, c19_diabete=32, c19_hypertensive=23, c19_cardio_vascular=68, c19_hypertensive_mcvd=68, c19_lower_respiratory=13, c19_kidney=10, c19_liver_cirrhosis=3, c19_obesity=36),\n",
              " Row(death_month=4, agegroup='30-39 years', sex='Male (M)', covid19=487, diabetes_uc=96, diabetes_mc=254, c19_diabete=73, c19_hypertensive=53, c19_cardio_vascular=162, c19_hypertensive_mcvd=162, c19_lower_respiratory=22, c19_kidney=37, c19_liver_cirrhosis=11, c19_obesity=89),\n",
              " Row(death_month=4, agegroup='40-49 years', sex='Female (F)', covid19=519, diabetes_uc=130, diabetes_mc=453, c19_diabete=108, c19_hypertensive=75, c19_cardio_vascular=180, c19_hypertensive_mcvd=180, c19_lower_respiratory=34, c19_kidney=52, c19_liver_cirrhosis=3, c19_obesity=70),\n",
              " Row(death_month=4, agegroup='40-49 years', sex='Male (M)', covid19=1284, diabetes_uc=291, diabetes_mc=851, c19_diabete=233, c19_hypertensive=212, c19_cardio_vascular=504, c19_hypertensive_mcvd=504, c19_lower_respiratory=39, c19_kidney=112, c19_liver_cirrhosis=15, c19_obesity=165),\n",
              " Row(death_month=4, agegroup='50-59 years', sex='Female (F)', covid19=1480, diabetes_uc=388, diabetes_mc=1311, c19_diabete=290, c19_hypertensive=267, c19_cardio_vascular=583, c19_hypertensive_mcvd=583, c19_lower_respiratory=125, c19_kidney=125, c19_liver_cirrhosis=17, c19_obesity=143),\n",
              " Row(death_month=4, agegroup='50-59 years', sex='Male (M)', covid19=3335, diabetes_uc=716, diabetes_mc=2391, c19_diabete=628, c19_hypertensive=589, c19_cardio_vascular=1366, c19_hypertensive_mcvd=1366, c19_lower_respiratory=138, c19_kidney=285, c19_liver_cirrhosis=29, c19_obesity=196),\n",
              " Row(death_month=4, agegroup='50-64 years', sex='Female (F)', covid19=3031, diabetes_uc=761, diabetes_mc=2580, c19_diabete=596, c19_hypertensive=573, c19_cardio_vascular=1226, c19_hypertensive_mcvd=1226, c19_lower_respiratory=290, c19_kidney=261, c19_liver_cirrhosis=33, c19_obesity=260),\n",
              " Row(death_month=4, agegroup='50-64 years', sex='Male (M)', covid19=6318, diabetes_uc=1272, diabetes_mc=4536, c19_diabete=1165, c19_hypertensive=1187, c19_cardio_vascular=2652, c19_hypertensive_mcvd=2652, c19_lower_respiratory=307, c19_kidney=548, c19_liver_cirrhosis=61, c19_obesity=295),\n",
              " Row(death_month=4, agegroup='60-69 years', sex='Female (F)', covid19=3589, diabetes_uc=787, diabetes_mc=2858, c19_diabete=702, c19_hypertensive=740, c19_cardio_vascular=1539, c19_hypertensive_mcvd=1539, c19_lower_respiratory=373, c19_kidney=297, c19_liver_cirrhosis=32, c19_obesity=227),\n",
              " Row(death_month=4, agegroup='60-69 years', sex='Male (M)', covid19=6743, diabetes_uc=1224, diabetes_mc=4788, c19_diabete=1213, c19_hypertensive=1369, c19_cardio_vascular=2905, c19_hypertensive_mcvd=2905, c19_lower_respiratory=406, c19_kidney=644, c19_liver_cirrhosis=63, c19_obesity=205),\n",
              " Row(death_month=4, agegroup='65-74 years', sex='Female (F)', covid19=4814, diabetes_uc=959, diabetes_mc=3754, c19_diabete=924, c19_hypertensive=1044, c19_cardio_vascular=2147, c19_hypertensive_mcvd=2147, c19_lower_respiratory=497, c19_kidney=376, c19_liver_cirrhosis=34, c19_obesity=206),\n",
              " Row(death_month=4, agegroup='65-74 years', sex='Male (M)', covid19=8234, diabetes_uc=1461, diabetes_mc=5834, c19_diabete=1482, c19_hypertensive=1764, c19_cardio_vascular=3655, c19_hypertensive_mcvd=3655, c19_lower_respiratory=574, c19_kidney=784, c19_liver_cirrhosis=54, c19_obesity=193),\n",
              " Row(death_month=4, agegroup='70-79 years', sex='Female (F)', covid19=6143, diabetes_uc=1091, diabetes_mc=4427, c19_diabete=1060, c19_hypertensive=1319, c19_cardio_vascular=2745, c19_hypertensive_mcvd=2745, c19_lower_respiratory=625, c19_kidney=420, c19_liver_cirrhosis=29, c19_obesity=172),\n",
              " Row(death_month=4, agegroup='70-79 years', sex='Male (M)', covid19=9091, diabetes_uc=1430, diabetes_mc=6160, c19_diabete=1500, c19_hypertensive=1949, c19_cardio_vascular=4146, c19_hypertensive_mcvd=4146, c19_lower_respiratory=714, c19_kidney=824, c19_liver_cirrhosis=40, c19_obesity=139),\n",
              " Row(death_month=4, agegroup='75-84 years', sex='Female (F)', covid19=7379, diabetes_uc=1083, diabetes_mc=4643, c19_diabete=1067, c19_hypertensive=1543, c19_cardio_vascular=3240, c19_hypertensive_mcvd=3240, c19_lower_respiratory=663, c19_kidney=462, c19_liver_cirrhosis=19, c19_obesity=130),\n",
              " Row(death_month=4, agegroup='75-84 years', sex='Male (M)', covid19=9256, diabetes_uc=1222, diabetes_mc=5729, c19_diabete=1379, c19_hypertensive=2014, c19_cardio_vascular=4317, c19_hypertensive_mcvd=4317, c19_lower_respiratory=752, c19_kidney=800, c19_liver_cirrhosis=29, c19_obesity=81),\n",
              " Row(death_month=4, agegroup='80+ years', sex='Female (F)', covid19=15882, diabetes_uc=1569, diabetes_mc=7200, c19_diabete=1521, c19_hypertensive=3274, c19_cardio_vascular=7001, c19_hypertensive_mcvd=7001, c19_lower_respiratory=1094, c19_kidney=806, c19_liver_cirrhosis=25, c19_obesity=100),\n",
              " Row(death_month=4, agegroup='80+ years', sex='Male (M)', covid19=12706, diabetes_uc=1379, diabetes_mc=6590, c19_diabete=1516, c19_hypertensive=2698, c19_cardio_vascular=5924, c19_hypertensive_mcvd=5924, c19_lower_respiratory=943, c19_kidney=957, c19_liver_cirrhosis=21, c19_obesity=49),\n",
              " Row(death_month=4, agegroup='85+ years', sex='Female (F)', covid19=11870, diabetes_uc=1032, diabetes_mc=4819, c19_diabete=986, c19_hypertensive=2440, c19_cardio_vascular=5255, c19_hypertensive_mcvd=5255, c19_lower_respiratory=767, c19_kidney=549, c19_liver_cirrhosis=17, c19_obesity=46),\n",
              " Row(death_month=4, agegroup='85+ years', sex='Male (M)', covid19=8067, diabetes_uc=794, diabetes_mc=3830, c19_diabete=831, c19_hypertensive=1640, c19_cardio_vascular=3717, c19_hypertensive_mcvd=3717, c19_lower_respiratory=568, c19_kidney=578, c19_liver_cirrhosis=9, c19_obesity=20),\n",
              " Row(death_month=5, agegroup='<18 years', sex='Female (F)', covid19=6, diabetes_uc=3, diabetes_mc=5, c19_diabete=0, c19_hypertensive=0, c19_cardio_vascular=1, c19_hypertensive_mcvd=1, c19_lower_respiratory=0, c19_kidney=0, c19_liver_cirrhosis=0, c19_obesity=0),\n",
              " Row(death_month=5, agegroup='<18 years', sex='Male (M)', covid19=12, diabetes_uc=6, diabetes_mc=9, c19_diabete=0, c19_hypertensive=0, c19_cardio_vascular=3, c19_hypertensive_mcvd=3, c19_lower_respiratory=1, c19_kidney=0, c19_liver_cirrhosis=0, c19_obesity=0),\n",
              " Row(death_month=5, agegroup='18-29 years', sex='Female (F)', covid19=37, diabetes_uc=19, diabetes_mc=37, c19_diabete=4, c19_hypertensive=2, c19_cardio_vascular=11, c19_hypertensive_mcvd=11, c19_lower_respiratory=0, c19_kidney=4, c19_liver_cirrhosis=0, c19_obesity=6),\n",
              " Row(death_month=5, agegroup='18-29 years', sex='Male (M)', covid19=86, diabetes_uc=34, diabetes_mc=60, c19_diabete=9, c19_hypertensive=5, c19_cardio_vascular=25, c19_hypertensive_mcvd=25, c19_lower_respiratory=2, c19_kidney=4, c19_liver_cirrhosis=3, c19_obesity=16),\n",
              " Row(death_month=5, agegroup='30-39 years', sex='Female (F)', covid19=102, diabetes_uc=54, diabetes_mc=125, c19_diabete=17, c19_hypertensive=12, c19_cardio_vascular=41, c19_hypertensive_mcvd=41, c19_lower_respiratory=6, c19_kidney=9, c19_liver_cirrhosis=1, c19_obesity=31),\n",
              " Row(death_month=5, agegroup='30-39 years', sex='Male (M)', covid19=250, diabetes_uc=103, diabetes_mc=215, c19_diabete=33, c19_hypertensive=24, c19_cardio_vascular=71, c19_hypertensive_mcvd=71, c19_lower_respiratory=9, c19_kidney=21, c19_liver_cirrhosis=8, c19_obesity=45),\n",
              " Row(death_month=5, agegroup='40-49 years', sex='Female (F)', covid19=286, diabetes_uc=132, diabetes_mc=402, c19_diabete=53, c19_hypertensive=46, c19_cardio_vascular=104, c19_hypertensive_mcvd=104, c19_lower_respiratory=23, c19_kidney=25, c19_liver_cirrhosis=6, c19_obesity=45),\n",
              " Row(death_month=5, agegroup='40-49 years', sex='Male (M)', covid19=686, diabetes_uc=247, diabetes_mc=694, c19_diabete=131, c19_hypertensive=111, c19_cardio_vascular=247, c19_hypertensive_mcvd=247, c19_lower_respiratory=22, c19_kidney=69, c19_liver_cirrhosis=6, c19_obesity=88),\n",
              " Row(death_month=5, agegroup='50-59 years', sex='Female (F)', covid19=852, diabetes_uc=356, diabetes_mc=1086, c19_diabete=178, c19_hypertensive=169, c19_cardio_vascular=373, c19_hypertensive_mcvd=373, c19_lower_respiratory=87, c19_kidney=83, c19_liver_cirrhosis=29, c19_obesity=87),\n",
              " Row(death_month=5, agegroup='50-59 years', sex='Male (M)', covid19=1792, diabetes_uc=627, diabetes_mc=1951, c19_diabete=336, c19_hypertensive=342, c19_cardio_vascular=787, c19_hypertensive_mcvd=787, c19_lower_respiratory=72, c19_kidney=208, c19_liver_cirrhosis=48, c19_obesity=125),\n",
              " Row(death_month=5, agegroup='50-64 years', sex='Female (F)', covid19=1733, diabetes_uc=668, diabetes_mc=2113, c19_diabete=344, c19_hypertensive=340, c19_cardio_vascular=752, c19_hypertensive_mcvd=752, c19_lower_respiratory=189, c19_kidney=166, c19_liver_cirrhosis=53, c19_obesity=152),\n",
              " Row(death_month=5, agegroup='50-64 years', sex='Male (M)', covid19=3380, diabetes_uc=1149, diabetes_mc=3730, c19_diabete=626, c19_hypertensive=650, c19_cardio_vascular=1490, c19_hypertensive_mcvd=1490, c19_lower_respiratory=178, c19_kidney=365, c19_liver_cirrhosis=89, c19_obesity=194),\n",
              " Row(death_month=5, agegroup='60-69 years', sex='Female (F)', covid19=2117, diabetes_uc=685, diabetes_mc=2394, c19_diabete=419, c19_hypertensive=448, c19_cardio_vascular=950, c19_hypertensive_mcvd=950, c19_lower_respiratory=253, c19_kidney=177, c19_liver_cirrhosis=38, c19_obesity=141),\n",
              " Row(death_month=5, agegroup='60-69 years', sex='Male (M)', covid19=3652, diabetes_uc=1120, diabetes_mc=3931, c19_diabete=668, c19_hypertensive=746, c19_cardio_vascular=1638, c19_hypertensive_mcvd=1638, c19_lower_respiratory=292, c19_kidney=382, c19_liver_cirrhosis=60, c19_obesity=114),\n",
              " Row(death_month=5, agegroup='65-74 years', sex='Female (F)', covid19=2856, diabetes_uc=845, diabetes_mc=3143, c19_diabete=533, c19_hypertensive=597, c19_cardio_vascular=1298, c19_hypertensive_mcvd=1298, c19_lower_respiratory=342, c19_kidney=227, c19_liver_cirrhosis=26, c19_obesity=128),\n",
              " Row(death_month=5, agegroup='65-74 years', sex='Male (M)', covid19=4404, diabetes_uc=1244, diabetes_mc=4695, c19_diabete=822, c19_hypertensive=962, c19_cardio_vascular=2036, c19_hypertensive_mcvd=2036, c19_lower_respiratory=401, c19_kidney=479, c19_liver_cirrhosis=49, c19_obesity=100),\n",
              " Row(death_month=5, agegroup='70-79 years', sex='Female (F)', covid19=3548, diabetes_uc=934, diabetes_mc=3625, c19_diabete=581, c19_hypertensive=730, c19_cardio_vascular=1583, c19_hypertensive_mcvd=1583, c19_lower_respiratory=404, c19_kidney=278, c19_liver_cirrhosis=19, c19_obesity=89),\n",
              " Row(death_month=5, agegroup='70-79 years', sex='Male (M)', covid19=4826, diabetes_uc=1190, diabetes_mc=4909, c19_diabete=846, c19_hypertensive=1041, c19_cardio_vascular=2276, c19_hypertensive_mcvd=2276, c19_lower_respiratory=474, c19_kidney=516, c19_liver_cirrhosis=48, c19_obesity=96),\n",
              " Row(death_month=5, agegroup='75-84 years', sex='Female (F)', covid19=4351, diabetes_uc=899, diabetes_mc=3752, c19_diabete=655, c19_hypertensive=905, c19_cardio_vascular=1917, c19_hypertensive_mcvd=1917, c19_lower_respiratory=445, c19_kidney=311, c19_liver_cirrhosis=21, c19_obesity=72),\n",
              " Row(death_month=5, agegroup='75-84 years', sex='Male (M)', covid19=4862, diabetes_uc=1028, diabetes_mc=4492, c19_diabete=762, c19_hypertensive=1082, c19_cardio_vascular=2342, c19_hypertensive_mcvd=2342, c19_lower_respiratory=513, c19_kidney=454, c19_liver_cirrhosis=24, c19_obesity=59),\n",
              " Row(death_month=5, agegroup='80+ years', sex='Female (F)', covid19=10778, diabetes_uc=1326, diabetes_mc=5840, c19_diabete=1095, c19_hypertensive=2337, c19_cardio_vascular=4964, c19_hypertensive_mcvd=4964, c19_lower_respiratory=844, c19_kidney=615, c19_liver_cirrhosis=21, c19_obesity=69),\n",
              " Row(death_month=5, agegroup='80+ years', sex='Male (M)', covid19=6958, diabetes_uc=1117, diabetes_mc=5112, c19_diabete=868, c19_hypertensive=1572, c19_cardio_vascular=3445, c19_hypertensive_mcvd=3445, c19_lower_respiratory=648, c19_kidney=578, c19_liver_cirrhosis=9, c19_obesity=31),\n",
              " Row(death_month=5, agegroup='85+ years', sex='Female (F)', covid19=8355, diabetes_uc=889, diabetes_mc=3937, c19_diabete=741, c19_hypertensive=1842, c19_cardio_vascular=3903, c19_hypertensive_mcvd=3903, c19_lower_respiratory=612, c19_kidney=449, c19_liver_cirrhosis=7, c19_obesity=34),\n",
              " Row(death_month=5, agegroup='85+ years', sex='Male (M)', covid19=4582, diabetes_uc=633, diabetes_mc=2986, c19_diabete=508, c19_hypertensive=1007, c19_cardio_vascular=2278, c19_hypertensive_mcvd=2278, c19_lower_respiratory=394, c19_kidney=386, c19_liver_cirrhosis=3, c19_obesity=13),\n",
              " Row(death_month=6, agegroup='<18 years', sex='Female (F)', covid19=7, diabetes_uc=4, diabetes_mc=6, c19_diabete=0, c19_hypertensive=0, c19_cardio_vascular=0, c19_hypertensive_mcvd=0, c19_lower_respiratory=1, c19_kidney=0, c19_liver_cirrhosis=0, c19_obesity=1),\n",
              " Row(death_month=6, agegroup='<18 years', sex='Male (M)', covid19=11, diabetes_uc=3, diabetes_mc=6, c19_diabete=0, c19_hypertensive=0, c19_cardio_vascular=4, c19_hypertensive_mcvd=4, c19_lower_respiratory=0, c19_kidney=1, c19_liver_cirrhosis=0, c19_obesity=1),\n",
              " Row(death_month=6, agegroup='18-29 years', sex='Female (F)', covid19=43, diabetes_uc=15, diabetes_mc=35, c19_diabete=7, c19_hypertensive=1, c19_cardio_vascular=9, c19_hypertensive_mcvd=9, c19_lower_respiratory=2, c19_kidney=0, c19_liver_cirrhosis=0, c19_obesity=12),\n",
              " Row(death_month=6, agegroup='18-29 years', sex='Male (M)', covid19=58, diabetes_uc=34, diabetes_mc=55, c19_diabete=4, c19_hypertensive=3, c19_cardio_vascular=14, c19_hypertensive_mcvd=14, c19_lower_respiratory=7, c19_kidney=4, c19_liver_cirrhosis=2, c19_obesity=13),\n",
              " Row(death_month=6, agegroup='30-39 years', sex='Female (F)', covid19=101, diabetes_uc=58, diabetes_mc=123, c19_diabete=18, c19_hypertensive=4, c19_cardio_vascular=32, c19_hypertensive_mcvd=32, c19_lower_respiratory=2, c19_kidney=8, c19_liver_cirrhosis=6, c19_obesity=29),\n",
              " Row(death_month=6, agegroup='30-39 years', sex='Male (M)', covid19=184, diabetes_uc=83, diabetes_mc=199, c19_diabete=32, c19_hypertensive=25, c19_cardio_vascular=66, c19_hypertensive_mcvd=66, c19_lower_respiratory=5, c19_kidney=17, c19_liver_cirrhosis=4, c19_obesity=40),\n",
              " Row(death_month=6, agegroup='40-49 years', sex='Female (F)', covid19=214, diabetes_uc=120, diabetes_mc=363, c19_diabete=48, c19_hypertensive=32, c19_cardio_vascular=85, c19_hypertensive_mcvd=85, c19_lower_respiratory=11, c19_kidney=24, c19_liver_cirrhosis=8, c19_obesity=42),\n",
              " Row(death_month=6, agegroup='40-49 years', sex='Male (M)', covid19=461, diabetes_uc=224, diabetes_mc=598, c19_diabete=84, c19_hypertensive=73, c19_cardio_vascular=172, c19_hypertensive_mcvd=172, c19_lower_respiratory=12, c19_kidney=45, c19_liver_cirrhosis=7, c19_obesity=70),\n",
              " Row(death_month=6, agegroup='50-59 years', sex='Female (F)', covid19=577, diabetes_uc=332, diabetes_mc=1028, c19_diabete=138, c19_hypertensive=111, c19_cardio_vascular=260, c19_hypertensive_mcvd=260, c19_lower_respiratory=47, c19_kidney=58, c19_liver_cirrhosis=13, c19_obesity=62),\n",
              " Row(death_month=6, agegroup='50-59 years', sex='Male (M)', covid19=1087, diabetes_uc=581, diabetes_mc=1834, c19_diabete=237, c19_hypertensive=201, c19_cardio_vascular=455, c19_hypertensive_mcvd=455, c19_lower_respiratory=37, c19_kidney=130, c19_liver_cirrhosis=40, c19_obesity=92),\n",
              " Row(death_month=6, agegroup='50-64 years', sex='Female (F)', covid19=1074, diabetes_uc=651, diabetes_mc=2063, c19_diabete=265, c19_hypertensive=229, c19_cardio_vascular=497, c19_hypertensive_mcvd=497, c19_lower_respiratory=103, c19_kidney=110, c19_liver_cirrhosis=27, c19_obesity=109),\n",
              " Row(death_month=6, agegroup='50-64 years', sex='Male (M)', covid19=1956, diabetes_uc=1056, diabetes_mc=3379, c19_diabete=428, c19_hypertensive=396, c19_cardio_vascular=869, c19_hypertensive_mcvd=869, c19_lower_respiratory=98, c19_kidney=247, c19_liver_cirrhosis=55, c19_obesity=132),\n",
              " Row(death_month=6, agegroup='60-69 years', sex='Female (F)', covid19=1115, diabetes_uc=680, diabetes_mc=2281, c19_diabete=266, c19_hypertensive=255, c19_cardio_vascular=504, c19_hypertensive_mcvd=504, c19_lower_respiratory=115, c19_kidney=116, c19_liver_cirrhosis=25, c19_obesity=99),\n",
              " Row(death_month=6, agegroup='60-69 years', sex='Male (M)', covid19=1907, diabetes_uc=1076, diabetes_mc=3597, c19_diabete=442, c19_hypertensive=436, c19_cardio_vascular=937, c19_hypertensive_mcvd=937, c19_lower_respiratory=151, c19_kidney=243, c19_liver_cirrhosis=35, c19_obesity=72),\n",
              " Row(death_month=6, agegroup='65-74 years', sex='Female (F)', covid19=1449, diabetes_uc=832, diabetes_mc=2877, c19_diabete=321, c19_hypertensive=328, c19_cardio_vascular=678, c19_hypertensive_mcvd=678, c19_lower_respiratory=147, c19_kidney=153, c19_liver_cirrhosis=19, c19_obesity=98),\n",
              " Row(death_month=6, agegroup='65-74 years', sex='Male (M)', covid19=2266, diabetes_uc=1213, diabetes_mc=4396, c19_diabete=527, c19_hypertensive=538, c19_cardio_vascular=1127, c19_hypertensive_mcvd=1127, c19_lower_respiratory=206, c19_kidney=264, c19_liver_cirrhosis=42, c19_obesity=72),\n",
              " Row(death_month=6, agegroup='70-79 years', sex='Female (F)', covid19=1801, diabetes_uc=915, diabetes_mc=3309, c19_diabete=352, c19_hypertensive=424, c19_cardio_vascular=890, c19_hypertensive_mcvd=890, c19_lower_respiratory=202, c19_kidney=171, c19_liver_cirrhosis=13, c19_obesity=77),\n",
              " Row(death_month=6, agegroup='70-79 years', sex='Male (M)', covid19=2377, diabetes_uc=1167, diabetes_mc=4519, c19_diabete=485, c19_hypertensive=542, c19_cardio_vascular=1154, c19_hypertensive_mcvd=1154, c19_lower_respiratory=219, c19_kidney=256, c19_liver_cirrhosis=28, c19_obesity=60),\n",
              " Row(death_month=6, agegroup='75-84 years', sex='Female (F)', covid19=2130, diabetes_uc=889, diabetes_mc=3457, c19_diabete=343, c19_hypertensive=492, c19_cardio_vascular=1037, c19_hypertensive_mcvd=1037, c19_lower_respiratory=225, c19_kidney=179, c19_liver_cirrhosis=9, c19_obesity=48),\n",
              " Row(death_month=6, agegroup='75-84 years', sex='Male (M)', covid19=2292, diabetes_uc=1051, diabetes_mc=4181, c19_diabete=397, c19_hypertensive=488, c19_cardio_vascular=1141, c19_hypertensive_mcvd=1141, c19_lower_respiratory=221, c19_kidney=234, c19_liver_cirrhosis=10, c19_obesity=36),\n",
              " Row(death_month=6, agegroup='80+ years', sex='Female (F)', covid19=4568, diabetes_uc=1275, diabetes_mc=5374, c19_diabete=527, c19_hypertensive=1156, c19_cardio_vascular=2324, c19_hypertensive_mcvd=2324, c19_lower_respiratory=392, c19_kidney=307, c19_liver_cirrhosis=10, c19_obesity=33),\n",
              " Row(death_month=6, agegroup='80+ years', sex='Male (M)', covid19=3163, diabetes_uc=1135, diabetes_mc=4740, c19_diabete=441, c19_hypertensive=731, c19_cardio_vascular=1645, c19_hypertensive_mcvd=1645, c19_lower_respiratory=302, c19_kidney=298, c19_liver_cirrhosis=10, c19_obesity=18),\n",
              " Row(death_month=6, agegroup='85+ years', sex='Female (F)', covid19=3408, diabetes_uc=830, diabetes_mc=3595, c19_diabete=354, c19_hypertensive=897, c19_cardio_vascular=1766, c19_hypertensive_mcvd=1766, c19_lower_respiratory=281, c19_kidney=210, c19_liver_cirrhosis=6, c19_obesity=16),\n",
              " Row(death_month=6, agegroup='85+ years', sex='Male (M)', covid19=2020, diabetes_uc=639, diabetes_mc=2734, c19_diabete=253, c19_hypertensive=488, c19_cardio_vascular=1054, c19_hypertensive_mcvd=1054, c19_lower_respiratory=184, c19_kidney=182, c19_liver_cirrhosis=6, c19_obesity=2),\n",
              " Row(death_month=7, agegroup='<18 years', sex='Female (F)', covid19=9, diabetes_uc=5, diabetes_mc=6, c19_diabete=0, c19_hypertensive=0, c19_cardio_vascular=1, c19_hypertensive_mcvd=1, c19_lower_respiratory=1, c19_kidney=0, c19_liver_cirrhosis=0, c19_obesity=1),\n",
              " Row(death_month=7, agegroup='<18 years', sex='Male (M)', covid19=16, diabetes_uc=4, diabetes_mc=4, c19_diabete=0, c19_hypertensive=0, c19_cardio_vascular=3, c19_hypertensive_mcvd=3, c19_lower_respiratory=0, c19_kidney=0, c19_liver_cirrhosis=0, c19_obesity=2),\n",
              " Row(death_month=7, agegroup='18-29 years', sex='Female (F)', covid19=83, diabetes_uc=19, diabetes_mc=43, c19_diabete=10, c19_hypertensive=3, c19_cardio_vascular=18, c19_hypertensive_mcvd=18, c19_lower_respiratory=5, c19_kidney=8, c19_liver_cirrhosis=0, c19_obesity=21),\n",
              " Row(death_month=7, agegroup='18-29 years', sex='Male (M)', covid19=137, diabetes_uc=34, diabetes_mc=76, c19_diabete=23, c19_hypertensive=12, c19_cardio_vascular=42, c19_hypertensive_mcvd=42, c19_lower_respiratory=8, c19_kidney=9, c19_liver_cirrhosis=2, c19_obesity=48),\n",
              " Row(death_month=7, agegroup='30-39 years', sex='Female (F)', covid19=183, diabetes_uc=60, diabetes_mc=161, c19_diabete=48, c19_hypertensive=33, c19_cardio_vascular=70, c19_hypertensive_mcvd=70, c19_lower_respiratory=14, c19_kidney=14, c19_liver_cirrhosis=5, c19_obesity=58),\n",
              " Row(death_month=7, agegroup='30-39 years', sex='Male (M)', covid19=358, diabetes_uc=101, diabetes_mc=226, c19_diabete=42, c19_hypertensive=34, c19_cardio_vascular=120, c19_hypertensive_mcvd=120, c19_lower_respiratory=13, c19_kidney=40, c19_liver_cirrhosis=13, c19_obesity=97),\n",
              " Row(death_month=7, agegroup='40-49 years', sex='Female (F)', covid19=437, diabetes_uc=150, diabetes_mc=485, c19_diabete=126, c19_hypertensive=91, c19_cardio_vascular=179, c19_hypertensive_mcvd=179, c19_lower_respiratory=27, c19_kidney=43, c19_liver_cirrhosis=7, c19_obesity=119),\n",
              " Row(death_month=7, agegroup='40-49 years', sex='Male (M)', covid19=867, diabetes_uc=258, diabetes_mc=779, c19_diabete=186, c19_hypertensive=179, c19_cardio_vascular=353, c19_hypertensive_mcvd=353, c19_lower_respiratory=25, c19_kidney=92, c19_liver_cirrhosis=30, c19_obesity=175),\n",
              " Row(death_month=7, agegroup='50-59 years', sex='Female (F)', covid19=1059, diabetes_uc=376, diabetes_mc=1277, c19_diabete=277, c19_hypertensive=236, c19_cardio_vascular=489, c19_hypertensive_mcvd=489, c19_lower_respiratory=78, c19_kidney=117, c19_liver_cirrhosis=27, c19_obesity=169),\n",
              " Row(death_month=7, agegroup='50-59 years', sex='Male (M)', covid19=1974, diabetes_uc=658, diabetes_mc=2185, c19_diabete=504, c19_hypertensive=471, c19_cardio_vascular=900, c19_hypertensive_mcvd=900, c19_lower_respiratory=82, c19_kidney=204, c19_liver_cirrhosis=47, c19_obesity=250),\n",
              " Row(death_month=7, agegroup='50-64 years', sex='Female (F)', covid19=2013, diabetes_uc=733, diabetes_mc=2481, c19_diabete=554, c19_hypertensive=481, c19_cardio_vascular=902, c19_hypertensive_mcvd=902, c19_lower_respiratory=175, c19_kidney=224, c19_liver_cirrhosis=51, c19_obesity=283),\n",
              " Row(death_month=7, agegroup='50-64 years', sex='Male (M)', covid19=3587, diabetes_uc=1227, diabetes_mc=4121, c19_diabete=908, c19_hypertensive=890, c19_cardio_vascular=1703, c19_hypertensive_mcvd=1703, c19_lower_respiratory=175, c19_kidney=403, c19_liver_cirrhosis=89, c19_obesity=380),\n",
              " Row(death_month=7, agegroup='60-69 years', sex='Female (F)', covid19=2190, diabetes_uc=799, diabetes_mc=2752, c19_diabete=612, c19_hypertensive=556, c19_cardio_vascular=1002, c19_hypertensive_mcvd=1002, c19_lower_respiratory=220, c19_kidney=237, c19_liver_cirrhosis=54, c19_obesity=222),\n",
              " Row(death_month=7, agegroup='60-69 years', sex='Male (M)', covid19=3570, diabetes_uc=1265, diabetes_mc=4428, c19_diabete=895, c19_hypertensive=940, c19_cardio_vascular=1798, c19_hypertensive_mcvd=1798, c19_lower_respiratory=267, c19_kidney=450, c19_liver_cirrhosis=86, c19_obesity=243),\n",
              " Row(death_month=7, agegroup='65-74 years', sex='Female (F)', covid19=2757, diabetes_uc=974, diabetes_mc=3435, c19_diabete=686, c19_hypertensive=710, c19_cardio_vascular=1372, c19_hypertensive_mcvd=1372, c19_lower_respiratory=326, c19_kidney=285, c19_liver_cirrhosis=52, c19_obesity=219),\n",
              " Row(death_month=7, agegroup='65-74 years', sex='Male (M)', covid19=4219, diabetes_uc=1451, diabetes_mc=5426, c19_diabete=1061, c19_hypertensive=1109, c19_cardio_vascular=2146, c19_hypertensive_mcvd=2146, c19_lower_respiratory=395, c19_kidney=531, c19_liver_cirrhosis=73, c19_obesity=208),\n",
              " Row(death_month=7, agegroup='70-79 years', sex='Female (F)', covid19=3114, diabetes_uc=1012, diabetes_mc=3889, c19_diabete=722, c19_hypertensive=843, c19_cardio_vascular=1594, c19_hypertensive_mcvd=1594, c19_lower_respiratory=400, c19_kidney=308, c19_liver_cirrhosis=40, c19_obesity=186),\n",
              " Row(death_month=7, agegroup='70-79 years', sex='Male (M)', covid19=4581, diabetes_uc=1401, diabetes_mc=5654, c19_diabete=1080, c19_hypertensive=1235, c19_cardio_vascular=2359, c19_hypertensive_mcvd=2359, c19_lower_respiratory=481, c19_kidney=504, c19_liver_cirrhosis=53, c19_obesity=152),\n",
              " Row(death_month=7, agegroup='75-84 years', sex='Female (F)', covid19=3424, diabetes_uc=977, diabetes_mc=3994, c19_diabete=686, c19_hypertensive=972, c19_cardio_vascular=1741, c19_hypertensive_mcvd=1741, c19_lower_respiratory=415, c19_kidney=285, c19_liver_cirrhosis=23, c19_obesity=124),\n",
              " Row(death_month=7, agegroup='75-84 years', sex='Male (M)', covid19=4542, diabetes_uc=1192, diabetes_mc=5121, c19_diabete=965, c19_hypertensive=1244, c19_cardio_vascular=2382, c19_hypertensive_mcvd=2382, c19_lower_respiratory=526, c19_kidney=427, c19_liver_cirrhosis=33, c19_obesity=90),\n",
              " Row(death_month=7, agegroup='80+ years', sex='Female (F)', covid19=6410, diabetes_uc=1374, diabetes_mc=5955, c19_diabete=895, c19_hypertensive=1825, c19_cardio_vascular=3324, c19_hypertensive_mcvd=3324, c19_lower_respiratory=661, c19_kidney=413, c19_liver_cirrhosis=20, c19_obesity=93),\n",
              " Row(death_month=7, agegroup='80+ years', sex='Male (M)', covid19=5675, diabetes_uc=1236, diabetes_mc=5445, c19_diabete=969, c19_hypertensive=1590, c19_cardio_vascular=3087, c19_hypertensive_mcvd=3087, c19_lower_respiratory=654, c19_kidney=496, c19_liver_cirrhosis=14, c19_obesity=50),\n",
              " Row(death_month=7, agegroup='85+ years', sex='Female (F)', covid19=4579, diabetes_uc=877, diabetes_mc=3963, c19_diabete=580, c19_hypertensive=1297, c19_cardio_vascular=2394, c19_hypertensive_mcvd=2394, c19_lower_respiratory=443, c19_kidney=281, c19_liver_cirrhosis=15, c19_obesity=44),\n",
              " Row(death_month=7, agegroup='85+ years', sex='Male (M)', covid19=3452, diabetes_uc=690, diabetes_mc=3044, c19_diabete=514, c19_hypertensive=993, c19_cardio_vascular=1913, c19_hypertensive_mcvd=1913, c19_lower_respiratory=388, c19_kidney=293, c19_liver_cirrhosis=5, c19_obesity=17),\n",
              " Row(death_month=8, agegroup='<18 years', sex='Female (F)', covid19=8, diabetes_uc=2, diabetes_mc=3, c19_diabete=1, c19_hypertensive=0, c19_cardio_vascular=4, c19_hypertensive_mcvd=4, c19_lower_respiratory=0, c19_kidney=1, c19_liver_cirrhosis=0, c19_obesity=1),\n",
              " Row(death_month=8, agegroup='<18 years', sex='Male (M)', covid19=6, diabetes_uc=4, diabetes_mc=6, c19_diabete=1, c19_hypertensive=0, c19_cardio_vascular=3, c19_hypertensive_mcvd=3, c19_lower_respiratory=1, c19_kidney=0, c19_liver_cirrhosis=0, c19_obesity=0),\n",
              " Row(death_month=8, agegroup='18-29 years', sex='Female (F)', covid19=48, diabetes_uc=19, diabetes_mc=35, c19_diabete=8, c19_hypertensive=3, c19_cardio_vascular=15, c19_hypertensive_mcvd=15, c19_lower_respiratory=4, c19_kidney=5, c19_liver_cirrhosis=1, c19_obesity=9),\n",
              " Row(death_month=8, agegroup='18-29 years', sex='Male (M)', covid19=80, diabetes_uc=21, diabetes_mc=42, c19_diabete=10, c19_hypertensive=10, c19_cardio_vascular=24, c19_hypertensive_mcvd=24, c19_lower_respiratory=5, c19_kidney=13, c19_liver_cirrhosis=2, c19_obesity=21),\n",
              " Row(death_month=8, agegroup='30-39 years', sex='Female (F)', covid19=135, diabetes_uc=58, diabetes_mc=105, c19_diabete=17, c19_hypertensive=15, c19_cardio_vascular=43, c19_hypertensive_mcvd=43, c19_lower_respiratory=11, c19_kidney=13, c19_liver_cirrhosis=8, c19_obesity=20),\n",
              " Row(death_month=8, agegroup='30-39 years', sex='Male (M)', covid19=222, diabetes_uc=78, diabetes_mc=198, c19_diabete=35, c19_hypertensive=25, c19_cardio_vascular=86, c19_hypertensive_mcvd=86, c19_lower_respiratory=7, c19_kidney=26, c19_liver_cirrhosis=7, c19_obesity=48),\n",
              " Row(death_month=8, agegroup='40-49 years', sex='Female (F)', covid19=370, diabetes_uc=133, diabetes_mc=386, c19_diabete=85, c19_hypertensive=50, c19_cardio_vascular=119, c19_hypertensive_mcvd=119, c19_lower_respiratory=25, c19_kidney=46, c19_liver_cirrhosis=6, c19_obesity=62),\n",
              " Row(death_month=8, agegroup='40-49 years', sex='Male (M)', covid19=695, diabetes_uc=226, diabetes_mc=668, c19_diabete=158, c19_hypertensive=106, c19_cardio_vascular=254, c19_hypertensive_mcvd=254, c19_lower_respiratory=19, c19_kidney=77, c19_liver_cirrhosis=20, c19_obesity=119),\n",
              " Row(death_month=8, agegroup='50-59 years', sex='Female (F)', covid19=952, diabetes_uc=329, diabetes_mc=1134, c19_diabete=221, c19_hypertensive=189, c19_cardio_vascular=404, c19_hypertensive_mcvd=404, c19_lower_respiratory=64, c19_kidney=115, c19_liver_cirrhosis=25, c19_obesity=142),\n",
              " Row(death_month=8, agegroup='50-59 years', sex='Male (M)', covid19=1649, diabetes_uc=588, diabetes_mc=1937, c19_diabete=353, c19_hypertensive=327, c19_cardio_vascular=704, c19_hypertensive_mcvd=704, c19_lower_respiratory=63, c19_kidney=231, c19_liver_cirrhosis=39, c19_obesity=144),\n",
              " Row(death_month=8, agegroup='50-64 years', sex='Female (F)', covid19=1879, diabetes_uc=620, diabetes_mc=2248, c19_diabete=451, c19_hypertensive=368, c19_cardio_vascular=803, c19_hypertensive_mcvd=803, c19_lower_respiratory=165, c19_kidney=238, c19_liver_cirrhosis=39, c19_obesity=244),\n",
              " Row(death_month=8, agegroup='50-64 years', sex='Male (M)', covid19=3087, diabetes_uc=1087, diabetes_mc=3679, c19_diabete=693, c19_hypertensive=627, c19_cardio_vascular=1370, c19_hypertensive_mcvd=1370, c19_lower_respiratory=148, c19_kidney=413, c19_liver_cirrhosis=63, c19_obesity=250),\n",
              " Row(death_month=8, agegroup='60-69 years', sex='Female (F)', covid19=2116, diabetes_uc=709, diabetes_mc=2538, c19_diabete=478, c19_hypertensive=437, c19_cardio_vascular=938, c19_hypertensive_mcvd=938, c19_lower_respiratory=221, c19_kidney=276, c19_liver_cirrhosis=31, c19_obesity=209),\n",
              " Row(death_month=8, agegroup='60-69 years', sex='Male (M)', covid19=3304, diabetes_uc=1088, diabetes_mc=3935, c19_diabete=752, c19_hypertensive=690, c19_cardio_vascular=1546, c19_hypertensive_mcvd=1546, c19_lower_respiratory=259, c19_kidney=451, c19_liver_cirrhosis=63, c19_obesity=198),\n",
              " Row(death_month=8, agegroup='65-74 years', sex='Female (F)', covid19=2654, diabetes_uc=890, diabetes_mc=3283, c19_diabete=584, c19_hypertensive=587, c19_cardio_vascular=1223, c19_hypertensive_mcvd=1223, c19_lower_respiratory=278, c19_kidney=310, c19_liver_cirrhosis=32, c19_obesity=194),\n",
              " Row(death_month=8, agegroup='65-74 years', sex='Male (M)', covid19=4050, diabetes_uc=1248, diabetes_mc=4944, c19_diabete=905, c19_hypertensive=893, c19_cardio_vascular=1960, c19_hypertensive_mcvd=1960, c19_lower_respiratory=394, c19_kidney=551, c19_liver_cirrhosis=68, c19_obesity=192),\n",
              " Row(death_month=8, agegroup='70-79 years', sex='Female (F)', covid19=3087, diabetes_uc=933, diabetes_mc=3793, c19_diabete=679, c19_hypertensive=702, c19_cardio_vascular=1441, c19_hypertensive_mcvd=1441, c19_lower_respiratory=343, c19_kidney=302, c19_liver_cirrhosis=27, c19_obesity=156),\n",
              " Row(death_month=8, agegroup='70-79 years', sex='Male (M)', covid19=4427, diabetes_uc=1250, diabetes_mc=5218, c19_diabete=956, c19_hypertensive=1052, c19_cardio_vascular=2229, c19_hypertensive_mcvd=2229, c19_lower_respiratory=490, c19_kidney=545, c19_liver_cirrhosis=49, c19_obesity=162),\n",
              " Row(death_month=8, agegroup='75-84 years', sex='Female (F)', covid19=3481, diabetes_uc=950, diabetes_mc=3896, c19_diabete=647, c19_hypertensive=808, c19_cardio_vascular=1671, c19_hypertensive_mcvd=1671, c19_lower_respiratory=382, c19_kidney=303, c19_liver_cirrhosis=20, c19_obesity=111),\n",
              " Row(death_month=8, agegroup='75-84 years', sex='Male (M)', covid19=4358, diabetes_uc=1124, diabetes_mc=4854, c19_diabete=852, c19_hypertensive=1055, c19_cardio_vascular=2238, c19_hypertensive_mcvd=2238, c19_lower_respiratory=484, c19_kidney=497, c19_liver_cirrhosis=29, c19_obesity=85),\n",
              " Row(death_month=8, agegroup='80+ years', sex='Female (F)', covid19=6384, diabetes_uc=1397, diabetes_mc=5815, c19_diabete=820, c19_hypertensive=1519, c19_cardio_vascular=3166, c19_hypertensive_mcvd=3166, c19_lower_respiratory=575, c19_kidney=424, c19_liver_cirrhosis=15, c19_obesity=76),\n",
              " Row(death_month=8, agegroup='80+ years', sex='Male (M)', covid19=5426, diabetes_uc=1249, diabetes_mc=5433, c19_diabete=840, c19_hypertensive=1273, c19_cardio_vascular=2831, c19_hypertensive_mcvd=2831, c19_lower_respiratory=542, c19_kidney=532, c19_liver_cirrhosis=14, c19_obesity=35),\n",
              " Row(death_month=8, agegroup='85+ years', sex='Female (F)', covid19=4525, diabetes_uc=908, diabetes_mc=3853, c19_diabete=516, c19_hypertensive=1084, c19_cardio_vascular=2252, c19_hypertensive_mcvd=2252, c19_lower_respiratory=378, c19_kidney=266, c19_liver_cirrhosis=7, c19_obesity=34),\n",
              " Row(death_month=8, agegroup='85+ years', sex='Male (M)', covid19=3311, diabetes_uc=716, diabetes_mc=3046, c19_diabete=451, c19_hypertensive=767, c19_cardio_vascular=1742, c19_hypertensive_mcvd=1742, c19_lower_respiratory=328, c19_kidney=298, c19_liver_cirrhosis=5, c19_obesity=12),\n",
              " Row(death_month=9, agegroup='<18 years', sex='Female (F)', covid19=2, diabetes_uc=4, diabetes_mc=6, c19_diabete=1, c19_hypertensive=0, c19_cardio_vascular=1, c19_hypertensive_mcvd=1, c19_lower_respiratory=0, c19_kidney=0, c19_liver_cirrhosis=0, c19_obesity=2),\n",
              " Row(death_month=9, agegroup='<18 years', sex='Male (M)', covid19=4, diabetes_uc=0, diabetes_mc=1, c19_diabete=0, c19_hypertensive=0, c19_cardio_vascular=0, c19_hypertensive_mcvd=0, c19_lower_respiratory=0, c19_kidney=0, c19_liver_cirrhosis=0, c19_obesity=0),\n",
              " Row(death_month=9, agegroup='18-29 years', sex='Female (F)', covid19=31, diabetes_uc=8, diabetes_mc=24, c19_diabete=5, c19_hypertensive=0, c19_cardio_vascular=13, c19_hypertensive_mcvd=13, c19_lower_respiratory=2, c19_kidney=1, c19_liver_cirrhosis=0, c19_obesity=6),\n",
              " Row(death_month=9, agegroup='18-29 years', sex='Male (M)', covid19=41, diabetes_uc=12, diabetes_mc=24, c19_diabete=6, c19_hypertensive=5, c19_cardio_vascular=19, c19_hypertensive_mcvd=19, c19_lower_respiratory=0, c19_kidney=2, c19_liver_cirrhosis=0, c19_obesity=10),\n",
              " Row(death_month=9, agegroup='30-39 years', sex='Female (F)', covid19=74, diabetes_uc=33, diabetes_mc=67, c19_diabete=9, c19_hypertensive=7, c19_cardio_vascular=25, c19_hypertensive_mcvd=25, c19_lower_respiratory=3, c19_kidney=13, c19_liver_cirrhosis=3, c19_obesity=16),\n",
              " Row(death_month=9, agegroup='30-39 years', sex='Male (M)', covid19=116, diabetes_uc=46, diabetes_mc=107, c19_diabete=14, c19_hypertensive=4, c19_cardio_vascular=40, c19_hypertensive_mcvd=40, c19_lower_respiratory=2, c19_kidney=17, c19_liver_cirrhosis=4, c19_obesity=15),\n",
              " Row(death_month=9, agegroup='40-49 years', sex='Female (F)', covid19=187, diabetes_uc=118, diabetes_mc=291, c19_diabete=48, c19_hypertensive=17, c19_cardio_vascular=68, c19_hypertensive_mcvd=68, c19_lower_respiratory=10, c19_kidney=20, c19_liver_cirrhosis=7, c19_obesity=40),\n",
              " Row(death_month=9, agegroup='40-49 years', sex='Male (M)', covid19=324, diabetes_uc=175, diabetes_mc=463, c19_diabete=54, c19_hypertensive=40, c19_cardio_vascular=125, c19_hypertensive_mcvd=125, c19_lower_respiratory=5, c19_kidney=31, c19_liver_cirrhosis=9, c19_obesity=39),\n",
              " Row(death_month=9, agegroup='50-59 years', sex='Female (F)', covid19=474, diabetes_uc=291, diabetes_mc=897, c19_diabete=110, c19_hypertensive=78, c19_cardio_vascular=187, c19_hypertensive_mcvd=187, c19_lower_respiratory=29, c19_kidney=67, c19_liver_cirrhosis=13, c19_obesity=73),\n",
              " Row(death_month=9, agegroup='50-59 years', sex='Male (M)', covid19=841, diabetes_uc=492, diabetes_mc=1427, c19_diabete=171, c19_hypertensive=137, c19_cardio_vascular=341, c19_hypertensive_mcvd=341, c19_lower_respiratory=36, c19_kidney=100, c19_liver_cirrhosis=26, c19_obesity=62),\n",
              " Row(death_month=9, agegroup='50-64 years', sex='Female (F)', covid19=952, diabetes_uc=536, diabetes_mc=1708, c19_diabete=215, c19_hypertensive=167, c19_cardio_vascular=395, c19_hypertensive_mcvd=395, c19_lower_respiratory=63, c19_kidney=125, c19_liver_cirrhosis=23, c19_obesity=119),\n",
              " Row(death_month=9, agegroup='50-64 years', sex='Male (M)', covid19=1642, diabetes_uc=904, diabetes_mc=2822, c19_diabete=335, c19_hypertensive=268, c19_cardio_vascular=680, c19_hypertensive_mcvd=680, c19_lower_respiratory=99, c19_kidney=197, c19_liver_cirrhosis=45, c19_obesity=113),\n",
              " Row(death_month=9, agegroup='60-69 years', sex='Female (F)', covid19=1123, diabetes_uc=603, diabetes_mc=2005, c19_diabete=238, c19_hypertensive=210, c19_cardio_vascular=486, c19_hypertensive_mcvd=486, c19_lower_respiratory=113, c19_kidney=138, c19_liver_cirrhosis=20, c19_obesity=107),\n",
              " Row(death_month=9, agegroup='60-69 years', sex='Male (M)', covid19=1732, diabetes_uc=882, diabetes_mc=3093, c19_diabete=354, c19_hypertensive=294, c19_cardio_vascular=731, c19_hypertensive_mcvd=731, c19_lower_respiratory=154, c19_kidney=220, c19_liver_cirrhosis=30, c19_obesity=101),\n",
              " Row(death_month=9, agegroup='65-74 years', sex='Female (F)', covid19=1545, diabetes_uc=786, diabetes_mc=2684, c19_diabete=301, c19_hypertensive=280, c19_cardio_vascular=664, c19_hypertensive_mcvd=664, c19_lower_respiratory=184, c19_kidney=175, c19_liver_cirrhosis=18, c19_obesity=106),\n",
              " Row(death_month=9, agegroup='65-74 years', sex='Male (M)', covid19=2181, diabetes_uc=1040, diabetes_mc=3815, c19_diabete=448, c19_hypertensive=384, c19_cardio_vascular=993, c19_hypertensive_mcvd=993, c19_lower_respiratory=212, c19_kidney=290, c19_liver_cirrhosis=25, c19_obesity=87),\n",
              " Row(death_month=9, agegroup='70-79 years', sex='Female (F)', covid19=1831, diabetes_uc=852, diabetes_mc=2991, c19_diabete=311, c19_hypertensive=333, c19_cardio_vascular=796, c19_hypertensive_mcvd=796, c19_lower_respiratory=196, c19_kidney=175, c19_liver_cirrhosis=10, c19_obesity=82),\n",
              " Row(death_month=9, agegroup='70-79 years', sex='Male (M)', covid19=2534, diabetes_uc=1093, diabetes_mc=4226, c19_diabete=478, c19_hypertensive=438, c19_cardio_vascular=1178, c19_hypertensive_mcvd=1178, c19_lower_respiratory=252, c19_kidney=317, c19_liver_cirrhosis=18, c19_obesity=77),\n",
              " Row(death_month=9, agegroup='75-84 years', sex='Female (F)', covid19=2000, diabetes_uc=819, diabetes_mc=3106, c19_diabete=299, c19_hypertensive=381, c19_cardio_vascular=900, c19_hypertensive_mcvd=900, c19_lower_respiratory=200, c19_kidney=156, c19_liver_cirrhosis=6, c19_obesity=52),\n",
              " Row(death_month=9, agegroup='75-84 years', sex='Male (M)', covid19=2525, diabetes_uc=956, diabetes_mc=3925, c19_diabete=385, c19_hypertensive=434, c19_cardio_vascular=1182, c19_hypertensive_mcvd=1182, c19_lower_respiratory=276, c19_kidney=292, c19_liver_cirrhosis=7, c19_obesity=52),\n",
              " Row(death_month=9, agegroup='80+ years', sex='Female (F)', covid19=3847, diabetes_uc=1201, diabetes_mc=4809, c19_diabete=426, c19_hypertensive=785, c19_cardio_vascular=1785, c19_hypertensive_mcvd=1785, c19_lower_respiratory=318, c19_kidney=255, c19_liver_cirrhosis=7, c19_obesity=31),\n",
              " Row(death_month=9, agegroup='80+ years', sex='Male (M)', covid19=3277, diabetes_uc=1053, diabetes_mc=4387, c19_diabete=394, c19_hypertensive=580, c19_cardio_vascular=1590, c19_hypertensive_mcvd=1590, c19_lower_respiratory=340, c19_kidney=331, c19_liver_cirrhosis=6, c19_obesity=16),\n",
              " Row(death_month=9, agegroup='85+ years', sex='Female (F)', covid19=2778, diabetes_uc=806, diabetes_mc=3204, c19_diabete=270, c19_hypertensive=578, c19_cardio_vascular=1295, c19_hypertensive_mcvd=1295, c19_lower_respiratory=209, c19_kidney=179, c19_liver_cirrhosis=3, c19_obesity=16),\n",
              " Row(death_month=9, agegroup='85+ years', sex='Male (M)', covid19=2036, diabetes_uc=620, diabetes_mc=2571, c19_diabete=229, c19_hypertensive=363, c19_cardio_vascular=985, c19_hypertensive_mcvd=985, c19_lower_respiratory=195, c19_kidney=189, c19_liver_cirrhosis=3, c19_obesity=4)]"
            ]
          },
          "metadata": {},
          "execution_count": 76
        }
      ]
    },
    {
      "cell_type": "markdown",
      "metadata": {
        "id": "j4kBop_baIlA"
      },
      "source": [
        "Advantages of Pyspark comparying to Pandas:\n",
        "1. Processing time is faster.\n",
        "2. sparkDataFrame.count() returns the number of rows which is so straightforward but pandasDataFrame.count() returns the number of non NA/null observations for each column.\n",
        "\n",
        "Disadvantages of Pyspark comparying to Pandas:\n",
        "1. Updating, adding, and deleting columns are quite easier using Pandas.\n",
        "2. Debugging of pyspark coding is harder than pandas.\n"
      ]
    }
  ]
}